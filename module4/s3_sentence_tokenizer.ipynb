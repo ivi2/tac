{
 "metadata": {
  "language_info": {
   "codemirror_mode": {
    "name": "ipython",
    "version": 3
   },
   "file_extension": ".py",
   "mimetype": "text/x-python",
   "name": "python",
   "nbconvert_exporter": "python",
   "pygments_lexer": "ipython3",
   "version": "3.7.9-final"
  },
  "orig_nbformat": 2,
  "kernelspec": {
   "name": "Python 3.7.9 64-bit",
   "display_name": "Python 3.7.9 64-bit",
   "metadata": {
    "interpreter": {
     "hash": "12e142535047b06b913e5fa32d78fc032420dd290370ad8f873c3f7bbfaa026e"
    }
   }
  }
 },
 "nbformat": 4,
 "nbformat_minor": 2,
 "cells": [
  {
   "cell_type": "code",
   "execution_count": 9,
   "metadata": {},
   "outputs": [],
   "source": [
    "import os\n",
    "import sys\n",
    "import nltk\n",
    "from nltk.tokenize import sent_tokenize"
   ]
  },
  {
   "source": [
    "# Fichiers d'inputs et d'outputs"
   ],
   "cell_type": "markdown",
   "metadata": {}
  },
  {
   "cell_type": "code",
   "execution_count": 10,
   "metadata": {},
   "outputs": [],
   "source": [
    "infile = \"all.txt\"\n",
    "outfile = \"sents.txt\""
   ]
  },
  {
   "source": [
    "# Tokenisation du corpus ligne par ligne"
   ],
   "cell_type": "markdown",
   "metadata": {}
  },
  {
   "source": [
    "**Important** : pour traiter tout le corpus, mettez `LIMIT = None`"
   ],
   "cell_type": "markdown",
   "metadata": {}
  },
  {
   "cell_type": "code",
   "execution_count": 11,
   "metadata": {},
   "outputs": [],
   "source": [
    "LIMIT = 500000"
   ]
  },
  {
   "cell_type": "code",
   "execution_count": 12,
   "metadata": {
    "tags": []
   },
   "outputs": [
    {
     "output_type": "stream",
     "name": "stdout",
     "text": [
      "processing line 0/500000\n",
      "processing line 100000/500000\n",
      "processing line 200000/500000\n",
      "processing line 300000/500000\n",
      "processing line 400000/500000\n"
     ]
    }
   ],
   "source": [
    "with open(outfile, 'w', encoding=\"utf-8\") as output:\n",
    "    with open(infile, encoding=\"utf-8\", errors=\"backslashreplace\") as f:\n",
    "        content = f.readlines()\n",
    "        content = content[:LIMIT] if LIMIT is not None else content\n",
    "        n_lines = len(content)\n",
    "        for i, line in enumerate(content):\n",
    "            if i % 100000 == 0:\n",
    "                print(f'processing line {i}/{n_lines}')\n",
    "            sentences = sent_tokenize(line)\n",
    "            for sent in sentences:\n",
    "                output.write(sent + \"\\n\")"
   ]
  },
  {
   "cell_type": "code",
   "execution_count": null,
   "metadata": {},
   "outputs": [],
   "source": []
  },
  {
   "cell_type": "code",
   "execution_count": null,
   "metadata": {},
   "outputs": [],
   "source": []
  }
 ]
}