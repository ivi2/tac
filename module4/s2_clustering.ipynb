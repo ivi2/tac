{
 "metadata": {
  "language_info": {
   "codemirror_mode": {
    "name": "ipython",
    "version": 3
   },
   "file_extension": ".py",
   "mimetype": "text/x-python",
   "name": "python",
   "nbconvert_exporter": "python",
   "pygments_lexer": "ipython3",
   "version": "3.7.9-final"
  },
  "orig_nbformat": 2,
  "kernelspec": {
   "name": "Python 3.7.9 64-bit",
   "display_name": "Python 3.7.9 64-bit",
   "metadata": {
    "interpreter": {
     "hash": "12e142535047b06b913e5fa32d78fc032420dd290370ad8f873c3f7bbfaa026e"
    }
   }
  }
 },
 "nbformat": 4,
 "nbformat_minor": 2,
 "cells": [
  {
   "cell_type": "code",
   "execution_count": 4,
   "metadata": {},
   "outputs": [],
   "source": [
    "import collections\n",
    "import os\n",
    "import string\n",
    "import sys\n",
    "\n",
    "import pandas as pd\n",
    "from nltk import word_tokenize\n",
    "from nltk.corpus import stopwords\n",
    "from pprint import pprint\n",
    "from sklearn.cluster import KMeans\n",
    "from sklearn.feature_extraction.text import TfidfVectorizer"
   ]
  },
  {
   "cell_type": "code",
   "execution_count": 5,
   "metadata": {},
   "outputs": [
    {
     "output_type": "stream",
     "name": "stderr",
     "text": [
      "[nltk_data] Downloading package punkt to\n",
      "[nltk_data]     C:\\Users\\itiaw\\AppData\\Roaming\\nltk_data...\n",
      "[nltk_data]   Unzipping tokenizers\\punkt.zip.\n"
     ]
    },
    {
     "output_type": "execute_result",
     "data": {
      "text/plain": [
       "True"
      ]
     },
     "metadata": {},
     "execution_count": 5
    }
   ],
   "source": [
    "import nltk\n",
    "\n",
    "nltk.download('punkt')"
   ]
  },
  {
   "cell_type": "code",
   "execution_count": 10,
   "metadata": {},
   "outputs": [],
   "source": [
    "data_path = \"../data/txt/\""
   ]
  },
  {
   "source": [
    "# Choix d'une décennie et du nombre de clusters"
   ],
   "cell_type": "markdown",
   "metadata": {}
  },
  {
   "cell_type": "code",
   "execution_count": 32,
   "metadata": {},
   "outputs": [],
   "source": [
    "DECADE = '1880'\n",
    "N_CLUSTERS = 5"
   ]
  },
  {
   "source": [
    "# Chargement des fichiers de la décennie"
   ],
   "cell_type": "markdown",
   "metadata": {}
  },
  {
   "cell_type": "code",
   "execution_count": 33,
   "metadata": {},
   "outputs": [],
   "source": [
    "files = [f for f in sorted(os.listdir(data_path)) if f\"_{DECADE[:-1]}\" in f]"
   ]
  },
  {
   "cell_type": "code",
   "execution_count": 34,
   "metadata": {},
   "outputs": [
    {
     "output_type": "execute_result",
     "data": {
      "text/plain": [
       "['Bxl_1880_Tome_I1_Part_1.txt',\n",
       " 'Bxl_1880_Tome_I1_Part_10.txt',\n",
       " 'Bxl_1880_Tome_I1_Part_2.txt',\n",
       " 'Bxl_1880_Tome_I1_Part_3.txt',\n",
       " 'Bxl_1880_Tome_I1_Part_4.txt']"
      ]
     },
     "metadata": {},
     "execution_count": 34
    }
   ],
   "source": [
    "# Exemple de fichiers\n",
    "files[:5]"
   ]
  },
  {
   "cell_type": "code",
   "execution_count": 41,
   "metadata": {},
   "outputs": [],
   "source": [
    "texts = [open(data_path + f, encoding='utf8').read() for f in files]"
   ]
  },
  {
   "cell_type": "code",
   "execution_count": 44,
   "metadata": {},
   "outputs": [
    {
     "output_type": "execute_result",
     "data": {
      "text/plain": [
       "'VILLE\\n\\nD E\\n\\nBULLETIN\\n\\nBRUXELLES.\\n\\nCOMMUNAL\\n\\nA N N É E\\n\\n1880.\\n\\nPREMIÈRE PARTIE.\\n\\nCOMPTE\\n\\nRENDU\\n\\nDES\\n\\nSÉANCES.\\n\\nBBUXELLES,\\n\\nIMPRIMERIE DE V JULIEN BAERTSOEN,\\nGrand\\'Place, 5.\\ne\\n\\n\\x0c]\\n\\nI\\n\\n£\\n\\ni\\n\\n!\\n\\n\\x0cN \" 1.\\n\\nCOMPTE RENDU DE LA SÉANCE DÛ 1 2 JANVIER 1 8 8 0 .\\n\\nVILLE\\n\\nDE\\n\\nBRUXELLES.\\n\\nBULLETIN\\n\\nC O M M U N A L\\n\\nANNÉE\\n\\nC O N S E I L\\n\\n1880.\\n\\nC O M M U N A L .\\n\\nSéance du 42 Janvier 1880.\\nPrésidence de M . F . V'"
      ]
     },
     "metadata": {},
     "execution_count": 44
    }
   ],
   "source": [
    "# Exemple de textes\n",
    "texts[0][:400]"
   ]
  },
  {
   "source": [
    "# Vectorisation du texte"
   ],
   "cell_type": "markdown",
   "metadata": {}
  },
  {
   "cell_type": "code",
   "execution_count": 48,
   "metadata": {},
   "outputs": [],
   "source": [
    "def process_text(text, stem=True):\n",
    "    \"\"\" Tokenize text and remove punctuation \"\"\"\n",
    "    text = text.translate(string.punctuation)\n",
    "    tokens = word_tokenize(text)\n",
    "    return tokens"
   ]
  },
  {
   "cell_type": "code",
   "execution_count": 51,
   "metadata": {},
   "outputs": [
    {
     "output_type": "stream",
     "name": "stderr",
     "text": [
      "[nltk_data] Downloading package stopwords to\n[nltk_data]     C:\\Users\\itiaw\\AppData\\Roaming\\nltk_data...\n[nltk_data]   Package stopwords is already up-to-date!\n"
     ]
    }
   ],
   "source": [
    "nltk.download('stopwords')\n",
    "vectorizer = TfidfVectorizer(tokenizer=process_text,\n",
    "                                stop_words=stopwords.words('french'),\n",
    "                                max_df=0.5,\n",
    "                                min_df=0.1,\n",
    "                                lowercase=True)"
   ]
  },
  {
   "cell_type": "code",
   "execution_count": 52,
   "metadata": {},
   "outputs": [
    {
     "output_type": "stream",
     "name": "stdout",
     "text": [
      "Wall time: 1min 59s\n"
     ]
    }
   ],
   "source": [
    "%time tfidf_vectors = vectorizer.fit_transform(texts)"
   ]
  },
  {
   "cell_type": "code",
   "execution_count": 53,
   "metadata": {},
   "outputs": [
    {
     "output_type": "execute_result",
     "data": {
      "text/plain": [
       "<270x7997 sparse matrix of type '<class 'numpy.float64'>'\n",
       "\twith 461792 stored elements in Compressed Sparse Row format>"
      ]
     },
     "metadata": {},
     "execution_count": 53
    }
   ],
   "source": [
    "tfidf_vectors"
   ]
  },
  {
   "cell_type": "code",
   "execution_count": 54,
   "metadata": {},
   "outputs": [
    {
     "output_type": "execute_result",
     "data": {
      "text/plain": [
       "delecosse        0.338644\n",
       "délégation       0.206433\n",
       "trappeniers      0.199561\n",
       "veldekens        0.179754\n",
       "monte-charges    0.172714\n",
       "                   ...   \n",
       "lout             0.000000\n",
       "louée            0.000000\n",
       "louées           0.000000\n",
       "loués            0.000000\n",
       "#                0.000000\n",
       "Length: 7997, dtype: float64"
      ]
     },
     "metadata": {},
     "execution_count": 54
    }
   ],
   "source": [
    "# Exemple de vecteur TFIDF\n",
    "pd.Series(\n",
    "    tfidf_vectors[0].toarray()[0],\n",
    "    index=vectorizer.get_feature_names()\n",
    "    ).sort_values(ascending=False)"
   ]
  },
  {
   "source": [
    "# Comprendre les vecteurs et leurs \"distances\""
   ],
   "cell_type": "markdown",
   "metadata": {}
  },
  {
   "cell_type": "code",
   "execution_count": 55,
   "metadata": {},
   "outputs": [],
   "source": [
    "from scipy.spatial.distance import cosine"
   ]
  },
  {
   "cell_type": "code",
   "execution_count": 56,
   "metadata": {},
   "outputs": [
    {
     "output_type": "execute_result",
     "data": {
      "text/plain": [
       "0.0"
      ]
     },
     "metadata": {},
     "execution_count": 56
    }
   ],
   "source": [
    "cosine([1, 2, 3], [1, 2, 3])"
   ]
  },
  {
   "cell_type": "code",
   "execution_count": 57,
   "metadata": {},
   "outputs": [
    {
     "output_type": "execute_result",
     "data": {
      "text/plain": [
       "0.02004211298777725"
      ]
     },
     "metadata": {},
     "execution_count": 57
    }
   ],
   "source": [
    "cosine([1, 2, 3], [1, 2, 2])"
   ]
  },
  {
   "cell_type": "code",
   "execution_count": 58,
   "metadata": {},
   "outputs": [
    {
     "output_type": "execute_result",
     "data": {
      "text/plain": [
       "0.07417990022744858"
      ]
     },
     "metadata": {},
     "execution_count": 58
    }
   ],
   "source": [
    "cosine([1, 2, 3], [2, 2, 2])"
   ]
  },
  {
   "cell_type": "code",
   "execution_count": 59,
   "metadata": {},
   "outputs": [],
   "source": [
    "tfidf_array = tfidf_vectors.toarray()"
   ]
  },
  {
   "cell_type": "code",
   "execution_count": 60,
   "metadata": {},
   "outputs": [
    {
     "output_type": "execute_result",
     "data": {
      "text/plain": [
       "array([0., 0., 0., ..., 0., 0., 0.])"
      ]
     },
     "metadata": {},
     "execution_count": 60
    }
   ],
   "source": [
    "tfidf_array[0]"
   ]
  },
  {
   "cell_type": "code",
   "execution_count": 61,
   "metadata": {},
   "outputs": [
    {
     "output_type": "execute_result",
     "data": {
      "text/plain": [
       "'VILLE\\n\\nD E\\n\\nBULLETIN\\n\\nBRUXELLES.\\n\\nCOMMUNAL\\n\\nA N N É E\\n\\n1880.\\n\\nPREMIÈRE PARTIE.\\n\\nCOMPTE\\n\\nRENDU\\n\\nDES\\n\\nSÉANCES.\\n\\nBBUXELLES,\\n\\nIMPRIMERIE DE V JULIEN BAERTSOEN,\\nGrand\\'Place, 5.\\ne\\n\\n\\x0c]\\n\\nI\\n\\n£\\n\\ni\\n\\n!\\n\\n\\x0cN \" 1.\\n\\n'"
      ]
     },
     "metadata": {},
     "execution_count": 61
    }
   ],
   "source": [
    "texts[0][:200]"
   ]
  },
  {
   "cell_type": "code",
   "execution_count": 62,
   "metadata": {},
   "outputs": [
    {
     "output_type": "execute_result",
     "data": {
      "text/plain": [
       "array([0., 0., 0., ..., 0., 0., 0.])"
      ]
     },
     "metadata": {},
     "execution_count": 62
    }
   ],
   "source": [
    "tfidf_array[0]"
   ]
  },
  {
   "cell_type": "code",
   "execution_count": 63,
   "metadata": {},
   "outputs": [
    {
     "output_type": "execute_result",
     "data": {
      "text/plain": [
       "0.9012493988104938"
      ]
     },
     "metadata": {},
     "execution_count": 63
    }
   ],
   "source": [
    "cosine(tfidf_array[0], tfidf_array[1])"
   ]
  },
  {
   "source": [
    "# Clustering des vecteurs TFIDF"
   ],
   "cell_type": "markdown",
   "metadata": {}
  },
  {
   "source": [
    "Article intéressant sur le KMeans clustering :\n",
    "- https://medium.com/dataseries/k-means-clustering-explained-visually-in-5-minutes-b900cc69d175"
   ],
   "cell_type": "markdown",
   "metadata": {}
  },
  {
   "cell_type": "code",
   "execution_count": 64,
   "metadata": {},
   "outputs": [],
   "source": [
    "km_model = KMeans(n_clusters=N_CLUSTERS)"
   ]
  },
  {
   "cell_type": "code",
   "execution_count": 65,
   "metadata": {},
   "outputs": [
    {
     "output_type": "execute_result",
     "data": {
      "text/plain": [
       "KMeans(n_clusters=5)"
      ]
     },
     "metadata": {},
     "execution_count": 65
    }
   ],
   "source": [
    "km_model.fit(tfidf_vectors)"
   ]
  },
  {
   "cell_type": "code",
   "execution_count": 67,
   "metadata": {},
   "outputs": [],
   "source": [
    "clustering = collections.defaultdict(list)\n",
    "\n",
    "for idx, label in enumerate(km_model.labels_):\n",
    "    clustering[label].append(files[idx])"
   ]
  },
  {
   "cell_type": "code",
   "execution_count": 68,
   "metadata": {},
   "outputs": [
    {
     "output_type": "stream",
     "name": "stdout",
     "text": [
      "{0: ['Bxl_1880_Tome_I1_Part_1.txt',\n     'Bxl_1880_Tome_I1_Part_10.txt',\n     'Bxl_1880_Tome_I1_Part_2.txt',\n     'Bxl_1880_Tome_I1_Part_3.txt',\n     'Bxl_1880_Tome_I1_Part_4.txt',\n     'Bxl_1880_Tome_I1_Part_5.txt',\n     'Bxl_1880_Tome_I1_Part_6.txt',\n     'Bxl_1880_Tome_I1_Part_7.txt',\n     'Bxl_1880_Tome_I1_Part_8.txt',\n     'Bxl_1880_Tome_I1_Part_9.txt',\n     'Bxl_1881_Tome_I1_Part_1.txt',\n     'Bxl_1881_Tome_I1_Part_10.txt',\n     'Bxl_1881_Tome_I1_Part_2.txt',\n     'Bxl_1881_Tome_I1_Part_3.txt',\n     'Bxl_1881_Tome_I1_Part_4.txt',\n     'Bxl_1881_Tome_I1_Part_5.txt',\n     'Bxl_1881_Tome_I1_Part_6.txt',\n     'Bxl_1881_Tome_I1_Part_7.txt',\n     'Bxl_1881_Tome_I1_Part_8.txt',\n     'Bxl_1881_Tome_I1_Part_9.txt',\n     'Bxl_1881_Tome_I2_Part_1.txt',\n     'Bxl_1881_Tome_I2_Part_10.txt',\n     'Bxl_1881_Tome_I2_Part_11.txt',\n     'Bxl_1881_Tome_I2_Part_12.txt',\n     'Bxl_1881_Tome_I2_Part_2.txt',\n     'Bxl_1881_Tome_I2_Part_3.txt',\n     'Bxl_1881_Tome_I2_Part_4.txt',\n     'Bxl_1881_Tome_I2_Part_5.txt',\n     'Bxl_1881_Tome_I2_Part_6.txt',\n     'Bxl_1881_Tome_I2_Part_7.txt',\n     'Bxl_1881_Tome_I2_Part_8.txt',\n     'Bxl_1881_Tome_I2_Part_9.txt',\n     'Bxl_1882_Tome_I1_Part_1.txt',\n     'Bxl_1882_Tome_I1_Part_2.txt',\n     'Bxl_1882_Tome_I1_Part_3.txt',\n     'Bxl_1882_Tome_I1_Part_4.txt',\n     'Bxl_1882_Tome_I1_Part_5.txt',\n     'Bxl_1882_Tome_I1_Part_6.txt',\n     'Bxl_1882_Tome_I1_Part_7.txt',\n     'Bxl_1882_Tome_I2_Part_1.txt',\n     'Bxl_1882_Tome_I2_Part_11.txt',\n     'Bxl_1882_Tome_I2_Part_12.txt',\n     'Bxl_1882_Tome_I2_Part_13.txt',\n     'Bxl_1882_Tome_I2_Part_2.txt',\n     'Bxl_1882_Tome_I2_Part_3.txt',\n     'Bxl_1882_Tome_I2_Part_4.txt',\n     'Bxl_1882_Tome_I2_Part_5.txt',\n     'Bxl_1882_Tome_I2_Part_6.txt',\n     'Bxl_1882_Tome_I2_Part_7.txt',\n     'Bxl_1882_Tome_I2_Part_8.txt',\n     'Bxl_1882_Tome_I2_Part_9.txt',\n     'Bxl_1883_Tome_I1_Part_1.txt',\n     'Bxl_1883_Tome_I1_Part_2.txt',\n     'Bxl_1883_Tome_I1_Part_3.txt',\n     'Bxl_1883_Tome_I1_Part_4.txt',\n     'Bxl_1883_Tome_I1_Part_5.txt',\n     'Bxl_1883_Tome_I1_Part_7.txt',\n     'Bxl_1883_Tome_I2_Part_10.txt',\n     'Bxl_1883_Tome_I2_Part_11.txt',\n     'Bxl_1883_Tome_I2_Part_12.txt',\n     'Bxl_1883_Tome_I2_Part_2.txt',\n     'Bxl_1883_Tome_I2_Part_3.txt',\n     'Bxl_1883_Tome_I2_Part_4.txt',\n     'Bxl_1883_Tome_I2_Part_5.txt',\n     'Bxl_1883_Tome_I2_Part_6.txt',\n     'Bxl_1883_Tome_I2_Part_7.txt',\n     'Bxl_1883_Tome_I2_Part_8.txt',\n     'Bxl_1883_Tome_I2_Part_9.txt',\n     'Bxl_1884_Tome_I1_Part_2.txt',\n     'Bxl_1884_Tome_I1_Part_3.txt',\n     'Bxl_1884_Tome_I1_Part_5.txt',\n     'Bxl_1884_Tome_I1_Part_6.txt',\n     'Bxl_1884_Tome_I1_Part_7.txt',\n     'Bxl_1884_Tome_I2_Part_1.txt',\n     'Bxl_1884_Tome_I2_Part_10.txt',\n     'Bxl_1884_Tome_I2_Part_2.txt',\n     'Bxl_1884_Tome_I2_Part_3.txt',\n     'Bxl_1884_Tome_I2_Part_4.txt',\n     'Bxl_1884_Tome_I2_Part_5.txt',\n     'Bxl_1884_Tome_I2_Part_7.txt',\n     'Bxl_1884_Tome_I2_Part_8.txt',\n     'Bxl_1884_Tome_I2_Part_9.txt',\n     'Bxl_1885_Tome_I2_Part_12.txt',\n     'Bxl_1885_Tome_I2_Part_13.txt',\n     'Bxl_1885_Tome_I2_Part_14.txt',\n     'Bxl_1885_Tome_I2_Part_3.txt',\n     'Bxl_1885_Tome_I2_Part_4.txt',\n     'Bxl_1885_Tome_I2_Part_5.txt',\n     'Bxl_1886_Tome_I1_Part_6.txt',\n     'Bxl_1886_Tome_I2_Part_11.txt',\n     'Bxl_1886_Tome_I2_Part_4.txt',\n     'Bxl_1887_Tome_I1_Part_7.txt',\n     'Bxl_1887_Tome_I2_Part_4.txt',\n     'Bxl_1889_Tome_I1_Part_1.txt',\n     'Bxl_1889_Tome_I1_Part_8.txt',\n     'Lkn_1884_Tome_I_Part_8.txt',\n     'Lkn_1886_Tome_I_Part_7.txt'],\n 1: ['Lkn_1880_Tome_I_Part_1.txt',\n     'Lkn_1880_Tome_I_Part_2.txt',\n     'Lkn_1880_Tome_I_Part_4.txt',\n     'Lkn_1881_Tome_I_Part_1.txt',\n     'Lkn_1881_Tome_I_Part_2.txt',\n     'Lkn_1881_Tome_I_Part_4.txt',\n     'Lkn_1882_Tome_I_Part_1.txt',\n     'Lkn_1882_Tome_I_Part_2.txt',\n     'Lkn_1882_Tome_I_Part_3.txt',\n     'Lkn_1882_Tome_I_Part_4.txt',\n     'Lkn_1882_Tome_I_Part_5.txt',\n     'Lkn_1884_Tome_I_Part_1.txt',\n     'Lkn_1884_Tome_I_Part_2.txt',\n     'Lkn_1884_Tome_I_Part_3.txt',\n     'Lkn_1884_Tome_I_Part_5.txt',\n     'Lkn_1884_Tome_I_Part_6.txt',\n     'Lkn_1885_Tome_I_Part_1.txt',\n     'Lkn_1885_Tome_I_Part_2.txt',\n     'Lkn_1885_Tome_I_Part_3.txt',\n     'Lkn_1885_Tome_I_Part_4.txt',\n     'Lkn_1885_Tome_I_Part_5.txt',\n     'Lkn_1885_Tome_I_Part_6.txt',\n     'Lkn_1885_Tome_I_Part_7.txt',\n     'Lkn_1885_Tome_I_Part_8.txt',\n     'Lkn_1886_Tome_I_Part_1.txt',\n     'Lkn_1886_Tome_I_Part_2.txt',\n     'Lkn_1886_Tome_I_Part_3.txt',\n     'Lkn_1886_Tome_I_Part_4.txt',\n     'Lkn_1886_Tome_I_Part_5.txt',\n     'Lkn_1886_Tome_I_Part_6.txt',\n     'Lkn_1887_Tome_I_Part_1.txt',\n     'Lkn_1887_Tome_I_Part_2.txt',\n     'Lkn_1887_Tome_I_Part_3.txt',\n     'Lkn_1887_Tome_I_Part_5.txt',\n     'Lkn_1888_Tome_I_Part_1.txt',\n     'Lkn_1888_Tome_I_Part_10.txt',\n     'Lkn_1888_Tome_I_Part_11.txt',\n     'Lkn_1888_Tome_I_Part_12.txt',\n     'Lkn_1888_Tome_I_Part_2.txt',\n     'Lkn_1888_Tome_I_Part_3.txt',\n     'Lkn_1888_Tome_I_Part_4.txt',\n     'Lkn_1888_Tome_I_Part_5.txt',\n     'Lkn_1888_Tome_I_Part_7.txt',\n     'Lkn_1888_Tome_I_Part_8.txt',\n     'Lkn_1888_Tome_I_Part_9.txt'],\n 2: ['Lkn_1880_Tome_I_Part_3.txt',\n     'Lkn_1880_Tome_RptAn_Part_1.txt',\n     'Lkn_1880_Tome_RptAn_Part_2.txt',\n     'Lkn_1880_Tome_RptAn_Part_3.txt',\n     'Lkn_1880_Tome_RptAn_Part_4.txt',\n     'Lkn_1880_Tome_RptAn_Part_5.txt',\n     'Lkn_1880_Tome_RptAn_Part_6.txt',\n     'Lkn_1880_Tome_RptAn_Part_7.txt',\n     'Lkn_1880_Tome_RptAn_Part_8.txt',\n     'Lkn_1881_Tome_I_Part_3.txt',\n     'Lkn_1882_Tome_RptAn_Part_1.txt',\n     'Lkn_1882_Tome_RptAn_Part_2.txt',\n     'Lkn_1882_Tome_RptAn_Part_3.txt',\n     'Lkn_1882_Tome_RptAn_Part_4.txt',\n     'Lkn_1882_Tome_RptAn_Part_5.txt',\n     'Lkn_1882_Tome_RptAn_Part_6.txt',\n     'Lkn_1882_Tome_RptAn_Part_7.txt',\n     'Lkn_1882_Tome_RptAn_Part_8.txt',\n     'Lkn_1883_Tome_RptAn_Part_1.txt',\n     'Lkn_1883_Tome_RptAn_Part_2.txt',\n     'Lkn_1883_Tome_RptAn_Part_3.txt',\n     'Lkn_1883_Tome_RptAn_Part_4.txt',\n     'Lkn_1883_Tome_RptAn_Part_5.txt',\n     'Lkn_1884_Tome_I_Part_4.txt',\n     'Lkn_1884_Tome_I_Part_7.txt',\n     'Lkn_1885_Tome_RptAn_Part_1.txt',\n     'Lkn_1885_Tome_RptAn_Part_2.txt',\n     'Lkn_1885_Tome_RptAn_Part_3.txt',\n     'Lkn_1885_Tome_RptAn_Part_4.txt',\n     'Lkn_1885_Tome_RptAn_Part_5.txt',\n     'Lkn_1887_Tome_I_Part_4.txt'],\n 3: ['Bxl_1882_Tome_I2_Part_10.txt',\n     'Bxl_1883_Tome_I1_Part_6.txt',\n     'Bxl_1883_Tome_I2_Part_1.txt',\n     'Bxl_1884_Tome_I1_Part_1.txt',\n     'Bxl_1884_Tome_I1_Part_4.txt',\n     'Bxl_1884_Tome_I2_Part_6.txt',\n     'Bxl_1885_Tome_I1_Part_1.txt',\n     'Bxl_1885_Tome_I1_Part_2.txt',\n     'Bxl_1885_Tome_I1_Part_3.txt',\n     'Bxl_1885_Tome_I1_Part_4.txt',\n     'Bxl_1885_Tome_I1_Part_5.txt',\n     'Bxl_1885_Tome_I1_Part_6.txt',\n     'Bxl_1885_Tome_I2_Part_1.txt',\n     'Bxl_1885_Tome_I2_Part_10.txt',\n     'Bxl_1885_Tome_I2_Part_11.txt',\n     'Bxl_1885_Tome_I2_Part_2.txt',\n     'Bxl_1885_Tome_I2_Part_6.txt',\n     'Bxl_1885_Tome_I2_Part_7.txt',\n     'Bxl_1885_Tome_I2_Part_8.txt',\n     'Bxl_1885_Tome_I2_Part_9.txt',\n     'Bxl_1886_Tome_I1_Part_1.txt',\n     'Bxl_1886_Tome_I1_Part_2.txt',\n     'Bxl_1886_Tome_I1_Part_3.txt',\n     'Bxl_1886_Tome_I1_Part_4.txt',\n     'Bxl_1886_Tome_I1_Part_5.txt',\n     'Bxl_1886_Tome_I1_Part_7.txt',\n     'Bxl_1886_Tome_I1_Part_8.txt',\n     'Bxl_1886_Tome_I1_Part_9.txt',\n     'Bxl_1886_Tome_I2_Part_1.txt',\n     'Bxl_1886_Tome_I2_Part_10.txt',\n     'Bxl_1886_Tome_I2_Part_12.txt',\n     'Bxl_1886_Tome_I2_Part_13.txt',\n     'Bxl_1886_Tome_I2_Part_2.txt',\n     'Bxl_1886_Tome_I2_Part_3.txt',\n     'Bxl_1886_Tome_I2_Part_5.txt',\n     'Bxl_1886_Tome_I2_Part_6.txt',\n     'Bxl_1886_Tome_I2_Part_7.txt',\n     'Bxl_1886_Tome_I2_Part_8.txt',\n     'Bxl_1886_Tome_I2_Part_9.txt',\n     'Bxl_1887_Tome_I1_Part_2.txt',\n     'Bxl_1887_Tome_I1_Part_3.txt',\n     'Bxl_1887_Tome_I1_Part_4.txt',\n     'Bxl_1887_Tome_I1_Part_5.txt',\n     'Bxl_1887_Tome_I1_Part_6.txt',\n     'Bxl_1887_Tome_I2_Part_1.txt',\n     'Bxl_1887_Tome_I2_Part_3.txt',\n     'Bxl_1887_Tome_I2_Part_5.txt',\n     'Bxl_1887_Tome_I2_Part_6.txt',\n     'Bxl_1887_Tome_I2_Part_7.txt',\n     'Bxl_1887_Tome_I2_Part_8.txt',\n     'Bxl_1887_Tome_I2_Part_9.txt',\n     'Lkn_1883_Tome_RptAn_Part_6.txt'],\n 4: ['Bxl_1887_Tome_I1_Part_1.txt',\n     'Bxl_1887_Tome_I1_Part_8.txt',\n     'Bxl_1887_Tome_I2_Part_10.txt',\n     'Bxl_1887_Tome_I2_Part_11.txt',\n     'Bxl_1887_Tome_I2_Part_12.txt',\n     'Bxl_1887_Tome_I2_Part_2.txt',\n     'Bxl_1888_Tome_I1_Part_1.txt',\n     'Bxl_1888_Tome_I1_Part_2.txt',\n     'Bxl_1888_Tome_I1_Part_3.txt',\n     'Bxl_1888_Tome_I1_Part_4.txt',\n     'Bxl_1888_Tome_I1_Part_5.txt',\n     'Bxl_1888_Tome_I2_Part_1.txt',\n     'Bxl_1888_Tome_I2_Part_10.txt',\n     'Bxl_1888_Tome_I2_Part_11.txt',\n     'Bxl_1888_Tome_I2_Part_12.txt',\n     'Bxl_1888_Tome_I2_Part_13.txt',\n     'Bxl_1888_Tome_I2_Part_14.txt',\n     'Bxl_1888_Tome_I2_Part_2.txt',\n     'Bxl_1888_Tome_I2_Part_3.txt',\n     'Bxl_1888_Tome_I2_Part_4.txt',\n     'Bxl_1888_Tome_I2_Part_5.txt',\n     'Bxl_1888_Tome_I2_Part_6.txt',\n     'Bxl_1888_Tome_I2_Part_7.txt',\n     'Bxl_1888_Tome_I2_Part_8.txt',\n     'Bxl_1888_Tome_I2_Part_9.txt',\n     'Bxl_1889_Tome_I1_Part_2.txt',\n     'Bxl_1889_Tome_I1_Part_3.txt',\n     'Bxl_1889_Tome_I1_Part_4.txt',\n     'Bxl_1889_Tome_I1_Part_5.txt',\n     'Bxl_1889_Tome_I1_Part_6.txt',\n     'Bxl_1889_Tome_I1_Part_7.txt',\n     'Bxl_1889_Tome_I2_Part_1.txt',\n     'Bxl_1889_Tome_I2_Part_10.txt',\n     'Bxl_1889_Tome_I2_Part_11.txt',\n     'Bxl_1889_Tome_I2_Part_12.txt',\n     'Bxl_1889_Tome_I2_Part_13.txt',\n     'Bxl_1889_Tome_I2_Part_2.txt',\n     'Bxl_1889_Tome_I2_Part_3.txt',\n     'Bxl_1889_Tome_I2_Part_4.txt',\n     'Bxl_1889_Tome_I2_Part_5.txt',\n     'Bxl_1889_Tome_I2_Part_6.txt',\n     'Bxl_1889_Tome_I2_Part_7.txt',\n     'Bxl_1889_Tome_I2_Part_8.txt',\n     'Bxl_1889_Tome_I2_Part_9.txt',\n     'Lkn_1888_Tome_I_Part_6.txt']}\n"
     ]
    }
   ],
   "source": [
    "pprint(dict(clustering))"
   ]
  },
  {
   "cell_type": "code",
   "execution_count": null,
   "metadata": {},
   "outputs": [],
   "source": []
  }
 ]
}