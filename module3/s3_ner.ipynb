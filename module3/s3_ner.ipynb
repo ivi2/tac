{
 "metadata": {
  "language_info": {
   "codemirror_mode": {
    "name": "ipython",
    "version": 3
   },
   "file_extension": ".py",
   "mimetype": "text/x-python",
   "name": "python",
   "nbconvert_exporter": "python",
   "pygments_lexer": "ipython3",
   "version": "3.7.9-final"
  },
  "orig_nbformat": 2,
  "kernelspec": {
   "name": "python3",
   "display_name": "Python 3.7.9 64-bit",
   "metadata": {
    "interpreter": {
     "hash": "12e142535047b06b913e5fa32d78fc032420dd290370ad8f873c3f7bbfaa026e"
    }
   }
  }
 },
 "nbformat": 4,
 "nbformat_minor": 2,
 "cells": [
  {
   "source": [
    "# Named-entity recognition with SpaCy"
   ],
   "cell_type": "markdown",
   "metadata": {}
  },
  {
   "cell_type": "code",
   "execution_count": 1,
   "metadata": {},
   "outputs": [],
   "source": [
    "from collections import defaultdict\n",
    "import sys\n",
    "\n",
    "import spacy\n",
    "from spacy.lang.fr.examples import sentences"
   ]
  },
  {
   "source": [
    "Pour installer les modèles Spacy en français : `python -m spacy download fr_core_news_sm`"
   ],
   "cell_type": "markdown",
   "metadata": {
    "tags": []
   }
  },
  {
   "cell_type": "code",
   "execution_count": 2,
   "metadata": {},
   "outputs": [],
   "source": [
    "nlp = spacy.load('fr_core_news_sm')"
   ]
  },
  {
   "source": [
    "# Exemple sur un corpus de Spacy"
   ],
   "cell_type": "markdown",
   "metadata": {}
  },
  {
   "cell_type": "code",
   "execution_count": 3,
   "metadata": {},
   "outputs": [
    {
     "output_type": "execute_result",
     "data": {
      "text/plain": [
       "['Apple cherche à acheter une start-up anglaise pour 1 milliard de dollars',\n",
       " \"Les voitures autonomes déplacent la responsabilité de l'assurance vers les constructeurs\",\n",
       " \"San Francisco envisage d'interdire les robots coursiers sur les trottoirs\",\n",
       " 'Londres est une grande ville du Royaume-Uni',\n",
       " 'L’Italie choisit ArcelorMittal pour reprendre la plus grande aciérie d’Europe',\n",
       " \"Apple lance HomePod parce qu'il se sent menacé par l'Echo d'Amazon\",\n",
       " \"La France ne devrait pas manquer d'électricité cet été, même en cas de canicule\",\n",
       " 'Nouvelles attaques de Trump contre le maire de Londres',\n",
       " 'Où es-tu ?',\n",
       " 'Qui est le président de la France ?',\n",
       " 'Où est la capitale des États-Unis ?',\n",
       " 'Quand est né Barack Obama ?']"
      ]
     },
     "metadata": {},
     "execution_count": 3
    }
   ],
   "source": [
    "# Imprimer le corpus de Spacy\n",
    "\n",
    "sentences"
   ]
  },
  {
   "cell_type": "code",
   "execution_count": 4,
   "metadata": {},
   "outputs": [
    {
     "output_type": "execute_result",
     "data": {
      "text/plain": [
       "'Apple cherche à acheter une start-up anglaise pour 1 milliard de dollars'"
      ]
     },
     "metadata": {},
     "execution_count": 4
    }
   ],
   "source": [
    "# Isoler la première phrase\n",
    "\n",
    "sent = sentences[0]\n",
    "\n",
    "sent"
   ]
  },
  {
   "cell_type": "code",
   "execution_count": 5,
   "metadata": {},
   "outputs": [],
   "source": [
    "# Traiter la phrase avec Spacy\n",
    "\n",
    "doc = nlp(sent)"
   ]
  },
  {
   "cell_type": "code",
   "execution_count": 6,
   "metadata": {},
   "outputs": [
    {
     "output_type": "execute_result",
     "data": {
      "text/plain": [
       "spacy.tokens.doc.Doc"
      ]
     },
     "metadata": {},
     "execution_count": 6
    }
   ],
   "source": [
    "type(doc)"
   ]
  },
  {
   "source": [
    "### La documentation est accessible ici, https://spacy.io/api/doc"
   ],
   "cell_type": "markdown",
   "metadata": {}
  },
  {
   "cell_type": "code",
   "execution_count": 7,
   "metadata": {},
   "outputs": [
    {
     "output_type": "execute_result",
     "data": {
      "text/plain": [
       "'Apple cherche à acheter une start-up anglaise pour 1 milliard de dollars'"
      ]
     },
     "metadata": {},
     "execution_count": 7
    }
   ],
   "source": [
    "doc.text"
   ]
  },
  {
   "cell_type": "code",
   "execution_count": 8,
   "metadata": {},
   "outputs": [
    {
     "output_type": "execute_result",
     "data": {
      "text/plain": [
       "{'text': 'Apple cherche à acheter une start-up anglaise pour 1 milliard de dollars',\n",
       " 'ents': [{'start': 0, 'end': 5, 'label': 'ORG'}],\n",
       " 'sents': [{'start': 0, 'end': 72}],\n",
       " 'tokens': [{'id': 0,\n",
       "   'start': 0,\n",
       "   'end': 5,\n",
       "   'pos': 'NOUN',\n",
       "   'tag': 'NOUN__Gender=Fem|Number=Sing',\n",
       "   'dep': 'ROOT',\n",
       "   'head': 0},\n",
       "  {'id': 1,\n",
       "   'start': 6,\n",
       "   'end': 13,\n",
       "   'pos': 'NOUN',\n",
       "   'tag': 'NOUN__Gender=Fem|Number=Sing',\n",
       "   'dep': 'amod',\n",
       "   'head': 0},\n",
       "  {'id': 2,\n",
       "   'start': 14,\n",
       "   'end': 15,\n",
       "   'pos': 'ADP',\n",
       "   'tag': 'ADP',\n",
       "   'dep': 'mark',\n",
       "   'head': 3},\n",
       "  {'id': 3,\n",
       "   'start': 16,\n",
       "   'end': 23,\n",
       "   'pos': 'VERB',\n",
       "   'tag': 'VERB__VerbForm=Inf',\n",
       "   'dep': 'acl',\n",
       "   'head': 0},\n",
       "  {'id': 4,\n",
       "   'start': 24,\n",
       "   'end': 27,\n",
       "   'pos': 'DET',\n",
       "   'tag': 'DET__Definite=Ind|Gender=Fem|Number=Sing|PronType=Art',\n",
       "   'dep': 'det',\n",
       "   'head': 5},\n",
       "  {'id': 5,\n",
       "   'start': 28,\n",
       "   'end': 33,\n",
       "   'pos': 'NOUN',\n",
       "   'tag': 'NOUN__Gender=Fem|Number=Sing',\n",
       "   'dep': 'obj',\n",
       "   'head': 3},\n",
       "  {'id': 6,\n",
       "   'start': 33,\n",
       "   'end': 34,\n",
       "   'pos': 'PUNCT',\n",
       "   'tag': 'PUNCT',\n",
       "   'dep': 'dep',\n",
       "   'head': 7},\n",
       "  {'id': 7,\n",
       "   'start': 34,\n",
       "   'end': 36,\n",
       "   'pos': 'PROPN',\n",
       "   'tag': 'PROPN',\n",
       "   'dep': 'iobj',\n",
       "   'head': 8},\n",
       "  {'id': 8,\n",
       "   'start': 37,\n",
       "   'end': 45,\n",
       "   'pos': 'VERB',\n",
       "   'tag': 'VERB__Gender=Fem|Number=Sing|Tense=Past|VerbForm=Part',\n",
       "   'dep': 'acl',\n",
       "   'head': 5},\n",
       "  {'id': 9,\n",
       "   'start': 46,\n",
       "   'end': 50,\n",
       "   'pos': 'ADP',\n",
       "   'tag': 'ADP',\n",
       "   'dep': 'case',\n",
       "   'head': 11},\n",
       "  {'id': 10,\n",
       "   'start': 51,\n",
       "   'end': 52,\n",
       "   'pos': 'NUM',\n",
       "   'tag': 'NUM__NumType=Card',\n",
       "   'dep': 'nummod',\n",
       "   'head': 11},\n",
       "  {'id': 11,\n",
       "   'start': 53,\n",
       "   'end': 61,\n",
       "   'pos': 'NOUN',\n",
       "   'tag': 'NOUN__Gender=Masc|Number=Sing|NumType=Card',\n",
       "   'dep': 'nmod',\n",
       "   'head': 8},\n",
       "  {'id': 12,\n",
       "   'start': 62,\n",
       "   'end': 64,\n",
       "   'pos': 'ADP',\n",
       "   'tag': 'ADP',\n",
       "   'dep': 'case',\n",
       "   'head': 13},\n",
       "  {'id': 13,\n",
       "   'start': 65,\n",
       "   'end': 72,\n",
       "   'pos': 'NOUN',\n",
       "   'tag': 'NOUN__Gender=Masc|Number=Plur',\n",
       "   'dep': 'nmod',\n",
       "   'head': 11}]}"
      ]
     },
     "metadata": {},
     "execution_count": 8
    }
   ],
   "source": [
    "doc.to_json()"
   ]
  },
  {
   "source": [
    "## Appliquer l'approche sur toutes les phrases"
   ],
   "cell_type": "markdown",
   "metadata": {}
  },
  {
   "cell_type": "code",
   "execution_count": 9,
   "metadata": {},
   "outputs": [
    {
     "output_type": "stream",
     "name": "stdout",
     "text": [
      "'Apple cherche à acheter une start-up anglaise pour 1 milliard de dollars' contains the following entities: Apple (ORG)\n'Les voitures autonomes déplacent la responsabilité de l'assurance vers les constructeurs' contains no entities\n'San Francisco envisage d'interdire les robots coursiers sur les trottoirs' contains the following entities: San Francisco (LOC)\n'Londres est une grande ville du Royaume-Uni' contains the following entities: Londres (LOC), Royaume-Uni (LOC)\n'L’Italie choisit ArcelorMittal pour reprendre la plus grande aciérie d’Europe' contains the following entities: ArcelorMittal (MISC), Europe (LOC)\n'Apple lance HomePod parce qu'il se sent menacé par l'Echo d'Amazon' contains the following entities: Apple (ORG), HomePod (MISC), Echo (MISC)\n'La France ne devrait pas manquer d'électricité cet été, même en cas de canicule' contains the following entities: La France (LOC)\n'Nouvelles attaques de Trump contre le maire de Londres' contains the following entities: Trump (LOC), Londres (LOC)\n'Où es-tu ?' contains no entities\n'Qui est le président de la France ?' contains the following entities: la France (LOC)\n'Où est la capitale des États-Unis ?' contains the following entities: États-Unis (LOC)\n'Quand est né Barack Obama ?' contains the following entities: Barack Obama (PER)\n"
     ]
    }
   ],
   "source": [
    "for sent in sentences:\n",
    "    doc = nlp(sent)\n",
    "    entities = []\n",
    "    for ent in doc.ents:\n",
    "        entities.append(f\"{ent.text} ({ent.label_})\")\n",
    "    if entities:\n",
    "        print(f\"'{doc.text}' contains the following entities: {', '.join(entities)}\")\n",
    "    else:\n",
    "        print(f\"'{doc.text}' contains no entities\")"
   ]
  },
  {
   "source": [
    "# Application sur le corpus"
   ],
   "cell_type": "markdown",
   "metadata": {}
  },
  {
   "cell_type": "code",
   "execution_count": 14,
   "metadata": {},
   "outputs": [],
   "source": [
    "# Charger le texte\n",
    "\n",
    "n=1000000\n",
    "text = open(\"../data/all.txt\", encoding='utf-8').read()[:n]"
   ]
  },
  {
   "cell_type": "code",
   "execution_count": 15,
   "metadata": {},
   "outputs": [
    {
     "output_type": "stream",
     "name": "stdout",
     "text": [
      "Wall time: 50.6 s\n"
     ]
    }
   ],
   "source": [
    "%%time\n",
    "# Traiter le texte\n",
    "\n",
    "doc = nlp(text)"
   ]
  },
  {
   "cell_type": "code",
   "execution_count": 54,
   "metadata": {},
   "outputs": [],
   "source": [
    "# Compter les entités\n",
    "MISC= defaultdict(int)\n",
    "\n",
    "for ent in doc.ents:\n",
    "    if ent.label_ == \"MISC\" and len(ent.text) > 3:\n",
    "      MISC[ent.text] += 1"
   ]
  },
  {
   "cell_type": "code",
   "execution_count": 59,
   "metadata": {},
   "outputs": [
    {
     "output_type": "error",
     "ename": "NameError",
     "evalue": "name 'MISC' is not defined",
     "traceback": [
      "\u001b[1;31m---------------------------------------------------------------------------\u001b[0m",
      "\u001b[1;31mNameError\u001b[0m                                 Traceback (most recent call last)",
      "\u001b[1;32m<ipython-input-59-4bb48904d943>\u001b[0m in \u001b[0;36m<module>\u001b[1;34m\u001b[0m\n\u001b[1;32m----> 1\u001b[1;33m \u001b[0mMISC\u001b[0m\u001b[1;33m\u001b[0m\u001b[1;33m\u001b[0m\u001b[0m\n\u001b[0m",
      "\u001b[1;31mNameError\u001b[0m: name 'MISC' is not defined"
     ]
    }
   ],
   "source": [
    "MISC"
   ]
  },
  {
   "cell_type": "code",
   "execution_count": 58,
   "metadata": {},
   "outputs": [
    {
     "output_type": "stream",
     "name": "stdout",
     "text": [
      "Conseil appears 374 times in the corpus\nRanwet appears 45 times in the corpus\nCollège appears 32 times in the corpus\nBas-fonds appears 22 times in the corpus\nSociété appears 19 times in the corpus\nSOMMAIRE appears 17 times in the corpus\nConseil de salubrité appears 15 times in the corpus\nSociété Philanthropique appears 14 times in the corpus\nConstitution appears 14 times in the corpus\nCollège des bourgmestre appears 10 times in the corpus\nChambre appears 9 times in the corpus\nConseil communal appears 8 times in the corpus\nConservatoire appears 8 times in the corpus\nAdministration communale appears 8 times in the corpus\nSociété Royale de Philanthropie appears 7 times in the corpus\nConseil général des hospices appears 6 times in the corpus\nM. Ranwet appears 5 times in the corpus\nAdministration des Hospices appears 5 times in the corpus\nRégence appears 4 times in the corpus\nM M appears 4 times in the corpus\nA R T appears 4 times in the corpus\nAdhésion appears 4 times in the corpus\nCode pénal appears 4 times in the corpus\nConseil de Régence appears 4 times in the corpus\nConseil général d'administration des hospices appears 3 times in the corpus\nSociété P appears 3 times in the corpus\nMessieurs appears 3 times in the corpus\nConseil des hospices appears 3 times in the corpus\nCour appears 3 times in the corpus\nConseil central de salubrité publique appears 3 times in the corpus\nVOUS appears 3 times in the corpus\nCambre appears 3 times in the corpus\nGrandThéâtre appears 3 times in the corpus\nAttendu appears 3 times in the corpus\nSection appears 3 times in the corpus\nConseil de fabrique appears 3 times in the corpus\nMessageries appears 2 times in the corpus\nAcadémie des beaux appears 2 times in the corpus\nConseil général des\nhospices appears 2 times in the corpus\n— Art appears 2 times in the corpus\nConseil général appears 2 times in the corpus\nConseil de régence appears 2 times in the corpus\nCompagnie appears 2 times in the corpus\nConseil central appears 2 times in the corpus\nRAUCOURT appears 2 times in the corpus\n« Art appears 2 times in the corpus\nAcadémie de dessin appears 2 times in the corpus\nLe Conseil appears 2 times in the corpus\nMinistre de la guerre appears 2 times in the corpus\nAssemblée constituante appears 2 times in the corpus\n"
     ]
    }
   ],
   "source": [
    "# Trier et imprimer\n",
    "\n",
    "sorted_ORG = sorted(ORG.items(), key=lambda kv: kv[1], reverse=True)\n",
    "\n",
    "for ORG, freq in sorted_ORG[:50]:\n",
    "    print(f\"{ORG} appears {freq} times in the corpus\")"
   ]
  },
  {
   "cell_type": "code",
   "execution_count": null,
   "metadata": {},
   "outputs": [],
   "source": []
  },
  {
   "cell_type": "code",
   "execution_count": null,
   "metadata": {},
   "outputs": [],
   "source": []
  }
 ]
}