{
 "metadata": {
  "language_info": {
   "codemirror_mode": {
    "name": "ipython",
    "version": 3
   },
   "file_extension": ".py",
   "mimetype": "text/x-python",
   "name": "python",
   "nbconvert_exporter": "python",
   "pygments_lexer": "ipython3",
   "version": "3.7.9-final"
  },
  "orig_nbformat": 2,
  "kernelspec": {
   "name": "python3",
   "display_name": "Python 3.7.9 64-bit",
   "metadata": {
    "interpreter": {
     "hash": "12e142535047b06b913e5fa32d78fc032420dd290370ad8f873c3f7bbfaa026e"
    }
   }
  }
 },
 "nbformat": 4,
 "nbformat_minor": 2,
 "cells": [
  {
   "source": [
    "# Testing keyword extraction with YAKE"
   ],
   "cell_type": "markdown",
   "metadata": {}
  },
  {
   "cell_type": "code",
   "execution_count": 3,
   "metadata": {},
   "outputs": [],
   "source": [
    "import os\n",
    "import yake"
   ]
  },
  {
   "source": [
    "## Extraire les mots clés des documents avec YAKE"
   ],
   "cell_type": "markdown",
   "metadata": {}
  },
  {
   "cell_type": "code",
   "execution_count": 4,
   "metadata": {
    "tags": []
   },
   "outputs": [
    {
     "output_type": "execute_result",
     "data": {
      "text/plain": [
       "{'conseil communal', 'conseil général'}"
      ]
     },
     "metadata": {},
     "execution_count": 4
    }
   ],
   "source": [
    "# Faire une liste des mots à ignorer\n",
    "ignored = set([\"conseil communal\", \"conseil général\"])\n",
    "ignored"
   ]
  },
  {
   "cell_type": "code",
   "execution_count": 5,
   "metadata": {},
   "outputs": [
    {
     "output_type": "execute_result",
     "data": {
      "text/plain": [
       "<yake.yake.KeywordExtractor at 0x15f8906cd88>"
      ]
     },
     "metadata": {},
     "execution_count": 5
    }
   ],
   "source": [
    "# Instantier l'extracteur de mots clés\n",
    "kw_extractor = yake.KeywordExtractor(lan=\"fr\", top=20)\n",
    "kw_extractor"
   ]
  },
  {
   "cell_type": "code",
   "execution_count": 6,
   "metadata": {},
   "outputs": [],
   "source": [
    "# Lister les PDFs\n",
    "data_path = \"../data/txt/\"\n",
    "files = os.listdir(data_path)"
   ]
  },
  {
   "cell_type": "code",
   "execution_count": 7,
   "metadata": {},
   "outputs": [
    {
     "output_type": "execute_result",
     "data": {
      "text/plain": [
       "2828"
      ]
     },
     "metadata": {},
     "execution_count": 7
    }
   ],
   "source": [
    "# Imprimer le nombre de PDFs identifiés\n",
    "len(files)"
   ]
  },
  {
   "cell_type": "code",
   "execution_count": 8,
   "metadata": {},
   "outputs": [
    {
     "output_type": "execute_result",
     "data": {
      "text/plain": [
       "['Bxl_1847_Tome_I1_Part_1.txt',\n",
       " 'Bxl_1847_Tome_I1_Part_2.txt',\n",
       " 'Bxl_1847_Tome_I1_Part_3.txt',\n",
       " 'Bxl_1847_Tome_I1_Part_4.txt',\n",
       " 'Bxl_1847_Tome_I1_Part_5.txt',\n",
       " 'Bxl_1848_Tome_I1_Part_1.txt',\n",
       " 'Bxl_1848_Tome_I1_Part_2.txt',\n",
       " 'Bxl_1848_Tome_I1_Part_3.txt',\n",
       " 'Bxl_1849_Tome_I1_Part_1.txt',\n",
       " 'Bxl_1849_Tome_I1_Part_2.txt',\n",
       " 'Bxl_1849_Tome_I1_Part_3.txt',\n",
       " 'Bxl_1849_Tome_I1_Part_4.txt',\n",
       " 'Bxl_1849_Tome_I1_Part_5.txt',\n",
       " 'Bxl_1849_Tome_II1_Part_1.txt',\n",
       " 'Bxl_1849_Tome_II1_Part_2.txt',\n",
       " 'Bxl_1849_Tome_II1_Part_3.txt',\n",
       " 'Bxl_1849_Tome_II1_Part_4.txt',\n",
       " 'Bxl_1849_Tome_II1_Part_5.txt',\n",
       " 'Bxl_1849_Tome_II1_Part_6.txt',\n",
       " 'Bxl_1849_Tome_II1_Part_7.txt']"
      ]
     },
     "metadata": {},
     "execution_count": 8
    }
   ],
   "source": [
    "# Les dix premiers PDFs\n",
    "files[:20]"
   ]
  },
  {
   "cell_type": "code",
   "execution_count": 9,
   "metadata": {},
   "outputs": [
    {
     "output_type": "execute_result",
     "data": {
      "text/plain": [
       "2677"
      ]
     },
     "metadata": {},
     "execution_count": 9
    }
   ],
   "source": [
    "# Enlever les fichiers qui ne commencent pas par Bxl_\n",
    "bxl_files = [f for f in files if f.startswith('Bxl_')]\n",
    "len(bxl_files)"
   ]
  },
  {
   "cell_type": "code",
   "execution_count": 10,
   "metadata": {},
   "outputs": [
    {
     "output_type": "execute_result",
     "data": {
      "text/plain": [
       "'Bxl_1851_Tome_II1_Part_7.txt'"
      ]
     },
     "metadata": {},
     "execution_count": 10
    }
   ],
   "source": [
    "# Choisir un fichier\n",
    "this_file = bxl_files[42]\n",
    "this_file"
   ]
  },
  {
   "cell_type": "code",
   "execution_count": 11,
   "metadata": {},
   "outputs": [
    {
     "output_type": "execute_result",
     "data": {
      "text/plain": [
       "\"— 587\\n\\n_\\n\\nP r e m i è r e b a l a n c e à f a i r e . I l y a d a n s ce p r o j e t u n i m m e n s e avantage p o u r les propriétaires r i v e r a i n s . . . . J e n e m ' y r a l l i e r a i q u e s i\\nje s u i s assuré d ' u n c o n c o u r s s u f f i s a n t de l e u r p a r t à l a d é p e n s e . A\\ncette conditionne v o t e r a i ce p r o j e t , p a r c e q u ' i l est u t i l e , p a r c e q u ' i l\\nest p e u c o û t e u x , et s u r t o u t p a r c e q u ' i l e n t e r r e t o u s l\""
      ]
     },
     "metadata": {},
     "execution_count": 11
    }
   ],
   "source": [
    "# Récupérer le texte dans le fichier\n",
    "text = open(f'{data_path}/{this_file}', encoding='utf-8').read()\n",
    "text[:500]"
   ]
  },
  {
   "cell_type": "code",
   "execution_count": 12,
   "metadata": {},
   "outputs": [],
   "source": [
    "# Extraire les mots clés de ce texte\n",
    "keywords = kw_extractor.extract_keywords(text)"
   ]
  },
  {
   "cell_type": "code",
   "execution_count": 13,
   "metadata": {},
   "outputs": [
    {
     "output_type": "execute_result",
     "data": {
      "text/plain": [
       "[(0.002915277651733182, \"c'est\"),\n",
       " (0.0031347655094047812, 'conseil'),\n",
       " (0.004412925741544969, 'collège'),\n",
       " (0.004479387999783052, 'projet'),\n",
       " (0.005885065382619684, 'montagne'),\n",
       " (0.007989494569296957, 'section'),\n",
       " (0.008681299536199177, \"d'une\"),\n",
       " (0.009602187874178401, \"l'administration des hospices\"),\n",
       " (0.01109513348604184, 'hospices'),\n",
       " (0.012021524631033412, 'mètres'),\n",
       " (0.012301299226574346, 'séance'),\n",
       " (0.012351275790050669, 'budget'),\n",
       " (0.012668954166379821, 'rapport'),\n",
       " (0.013683411179325389, 'pâté'),\n",
       " (0.015523671218216297, 'vote'),\n",
       " (0.015892891369880216, 'faire'),\n",
       " (0.017160597212780168, \"l'administration\"),\n",
       " (0.019406305334008427, 'taxes communales'),\n",
       " (0.020749498483378037, \"n'est\"),\n",
       " (0.02110305098601052, 'approbation')]"
      ]
     },
     "metadata": {},
     "execution_count": 13
    }
   ],
   "source": [
    "keywords"
   ]
  },
  {
   "cell_type": "code",
   "execution_count": 14,
   "metadata": {},
   "outputs": [
    {
     "output_type": "execute_result",
     "data": {
      "text/plain": [
       "[\"l'administration des hospices\", 'taxes communales']"
      ]
     },
     "metadata": {},
     "execution_count": 14
    }
   ],
   "source": [
    "# Ne garder que les bigrams\n",
    "kept = []\n",
    "for score, kw in keywords:\n",
    "    words = kw.split()\n",
    "    if len(words) > 1 and kw not in ignored:\n",
    "        kept.append(kw)\n",
    "kept"
   ]
  },
  {
   "source": [
    "# Faire la même opération sur tous les documents"
   ],
   "cell_type": "markdown",
   "metadata": {}
  },
  {
   "cell_type": "code",
   "execution_count": 16,
   "metadata": {},
   "outputs": [
    {
     "output_type": "stream",
     "name": "stdout",
     "text": [
      "Bxl_1847_Tome_I1_Part_1.txt mentions these keywords: marchés couverts, d'un marché couvert, d'un marché, d'un marché dans, nouveau marché, l'établissement d'un marché, marché dans...\n",
      "Bxl_1847_Tome_I1_Part_2.txt mentions these keywords: belgique communale, l'administration communale...\n",
      "Bxl_1847_Tome_I1_Part_3.txt mentions these keywords: rue royale, rue royale neuve, rue royale jusqu'à, rue royale serait, rue royale extérieure...\n",
      "Bxl_1847_Tome_I1_Part_4.txt mentions these keywords: rue royale, conseil provincial, rue duquesnoy...\n",
      "Bxl_1847_Tome_I1_Part_5.txt mentions these keywords: domicile de secours, dépôt de mendicité...\n",
      "Bxl_1848_Tome_I1_Part_1.txt mentions these keywords: conseils de prud'hommes, d'un conseil, l'institution d'un conseil, l'établissement d'un conseil, l'organisation d'un conseil, conseil d'un plan...\n",
      "Bxl_1848_Tome_I1_Part_2.txt mentions these keywords: société civile...\n",
      "Bxl_1848_Tome_I1_Part_3.txt mentions these keywords: hardy de beaulieu...\n",
      "Bxl_1849_Tome_I1_Part_1.txt mentions these keywords: section des finances...\n",
      "Bxl_1849_Tome_I1_Part_2.txt mentions these keywords: voie publique, section des travaux...\n",
      "Bxl_1849_Tome_I1_Part_3.txt mentions these keywords: conseil central, travaux publics, l'administration communale, conseil de salubrité...\n",
      "Bxl_1849_Tome_I1_Part_4.txt mentions these keywords: section des travaux, section des finances, travaux publics, rue royale...\n",
      "Bxl_1849_Tome_I1_Part_5.txt mentions these keywords: collège des bourgmestre, travaux publics, l'hôtel de ville, rue royale, bourgmestre et échevins...\n",
      "Bxl_1849_Tome_II1_Part_1.txt mentions these keywords: section des travaux, section de police, l'ancien marché, travaux publics...\n",
      "Bxl_1849_Tome_II1_Part_2.txt mentions these keywords: ...\n",
      "Bxl_1849_Tome_II1_Part_3.txt mentions these keywords: dépenses ordinaires, dépenses extraordinaires...\n",
      "Bxl_1849_Tome_II1_Part_4.txt mentions these keywords: collège section, collège sanctionnés adoptés...\n",
      "Bxl_1849_Tome_II1_Part_5.txt mentions these keywords: collège des bourgmestre, bourgmestre et échevins...\n",
      "Bxl_1849_Tome_II1_Part_6.txt mentions these keywords: collège des bourgmestre, bourgmestre et échevins, conseil ordinaires...\n",
      "Bxl_1849_Tome_II1_Part_7.txt mentions these keywords: bourgmestre relative...\n",
      "Bxl_1850_Tome_I1_Part_1.txt mentions these keywords: voitures de place...\n",
      "Bxl_1850_Tome_I1_Part_2.txt mentions these keywords: collège des bourgmestre, bourgmestre et échevins, ville de bruxelles...\n",
      "Bxl_1850_Tome_I1_Part_3.txt mentions these keywords: enfants trouvés, service courant, conseil d'une lettre, conseil général d'administration, boni total...\n",
      "Bxl_1850_Tome_I1_Part_4.txt mentions these keywords: enfants trouvés, enfants abandonnés, députation permanente...\n",
      "Bxl_1850_Tome_II1_Part_1.txt mentions these keywords: construction d'un pont, travaux publics, construction d'un, section des finances...\n",
      "Bxl_1850_Tome_II1_Part_2.txt mentions these keywords: collège des bourgmestre, compte moral...\n",
      "Bxl_1850_Tome_II1_Part_3.txt mentions these keywords: maison rue, voie publique...\n",
      "Bxl_1850_Tome_II1_Part_4.txt mentions these keywords: enfants trouvés, section des finances, allocations crédits crédits...\n",
      "Bxl_1850_Tome_II1_Part_5.txt mentions these keywords: section des finances, enfants trouvés...\n",
      "Bxl_1850_Tome_II1_Part_6.txt mentions these keywords: ville de bruxelles, travaux publics...\n",
      "Bxl_1850_Tome_II1_Part_7.txt mentions these keywords: l'administration des hospices, autorisation donnée, bourgmestre relative, travaux publics, approbation d'actes, idem relative...\n",
      "Bxl_1851_Tome_I1_Part_1.txt mentions these keywords: quantité d'eau...\n",
      "Bxl_1851_Tome_I1_Part_2.txt mentions these keywords: ...\n",
      "Bxl_1851_Tome_I1_Part_3.txt mentions these keywords: collège des bourgmestre, conseil d'une lettre...\n",
      "Bxl_1851_Tome_I1_Part_4.txt mentions these keywords: rue partoes, section des travaux, d'une rue nouvelle...\n",
      "Bxl_1851_Tome_I1_Part_5.txt mentions these keywords: rue rue rue, rue rue, longue rue neuve, rue neuve, rue partoes, rue haute, rue d'assaut rue, petite rue, rue royale, longue rue...\n",
      "Bxl_1851_Tome_II1_Part_1.txt mentions these keywords: section des finances...\n",
      "Bxl_1851_Tome_II1_Part_2.txt mentions these keywords: ...\n",
      "Bxl_1851_Tome_II1_Part_3.txt mentions these keywords: ...\n",
      "Bxl_1851_Tome_II1_Part_4.txt mentions these keywords: service sanitaire, conseil général d'administration, mètres toile...\n",
      "Bxl_1851_Tome_II1_Part_5.txt mentions these keywords: ...\n",
      "Bxl_1851_Tome_II1_Part_6.txt mentions these keywords: rue des trois-têtes, cahier des charges...\n",
      "Bxl_1851_Tome_II1_Part_7.txt mentions these keywords: l'administration des hospices, taxes communales...\n",
      "Bxl_1852_Tome_I1_Part_1.txt mentions these keywords: section des travaux, travaux publics, section des finances, roe au lait, bruxe bulle...\n",
      "Bxl_1852_Tome_I1_Part_2.txt mentions these keywords: section des travaux, collège des bourgmestre, travaux publics...\n",
      "Bxl_1852_Tome_I1_Part_3.txt mentions these keywords: section des travaux, section des finances, travaux publics...\n",
      "Bxl_1852_Tome_I1_Part_4.txt mentions these keywords: quartier léopold, ville de bruxelles...\n",
      "Bxl_1852_Tome_I1_Part_5.txt mentions these keywords: travaux publics, prince charles, taxes communales, section des travaux...\n",
      "Bxl_1852_Tome_II1_Part_1.txt mentions these keywords: l'hôtel de ville, travaux publics, section des travaux, ville de bruxelles, conseil provincial...\n",
      "Bxl_1852_Tome_II1_Part_2.txt mentions these keywords: grand nombre, compte moral, société royale...\n",
      "Bxl_1852_Tome_II1_Part_3.txt mentions these keywords: grand nombre...\n",
      "Bxl_1852_Tome_II1_Part_4.txt mentions these keywords: travaux publics, section des travaux, école de natation, conseil général d'administration...\n",
      "Bxl_1852_Tome_II1_Part_5.txt mentions these keywords: société royale, société royale d'horticulture, travaux publics, ville de bruxelles...\n",
      "Bxl_1854_Tome_I1_Part_1.txt mentions these keywords: entrées de cave, section des finances, conseil général d'administration, conseil adopte, conseil d'un rapport...\n",
      "Bxl_1854_Tome_I1_Part_2.txt mentions these keywords: conseil général d'administration, section des finances, collège des bourgmestre, conseil général demande...\n",
      "Bxl_1854_Tome_I1_Part_3.txt mentions these keywords: section des finances, avis favorable, section des travaux...\n",
      "Bxl_1854_Tome_II1_Part_1.txt mentions these keywords: section des travaux, travaux publics, section des finances, conseil général d'administration...\n",
      "Bxl_1854_Tome_II1_Part_2.txt mentions these keywords: rue royale, place royale, place du congrès...\n",
      "Bxl_1854_Tome_II1_Part_3.txt mentions these keywords: grand nombre, quartier léopoid, voie publique...\n",
      "Bxl_1854_Tome_II1_Part_4.txt mentions these keywords: l'hôtel de ville...\n",
      "Bxl_1854_Tome_II1_Part_5.txt mentions these keywords: conseil général d'administration, frais d'administration, compte moral...\n",
      "Bxl_1854_Tome_II1_Part_6.txt mentions these keywords: travaux publics, section de police, ventes publiques...\n",
      "Bxl_1855_Tome_I1_Part_1.txt mentions these keywords: travaux publics, section des travaux...\n",
      "Bxl_1855_Tome_I1_Part_2.txt mentions these keywords: travaux publics, section des travaux...\n",
      "Bxl_1855_Tome_I1_Part_3.txt mentions these keywords: travaux publics...\n",
      "Bxl_1855_Tome_I1_Part_4.txt mentions these keywords: voitures voitures voitures, conseil général d'administration, voitures de place...\n",
      "Bxl_1855_Tome_I1_Part_5.txt mentions these keywords: section des finances, section des travaux...\n",
      "Bxl_1855_Tome_I1_Part_6.txt mentions these keywords: travaux publics, section des travaux, bulletin communal, section des finances...\n",
      "Bxl_1855_Tome_II1_Part_1.txt mentions these keywords: conseil général d'administration, ville de bruxelles, section des finances, travaux publics...\n",
      "Bxl_1855_Tome_II1_Part_2.txt mentions these keywords: rue haute, rue des tanneurs, grand nombre, rues d'une ville, rue neuve rue...\n",
      "Bxl_1855_Tome_II1_Part_3.txt mentions these keywords: section des finances, conseil général d'administration, taxes communales...\n",
      "Bxl_1855_Tome_II1_Part_4.txt mentions these keywords: voir compte moral, compte moral, section des finances...\n",
      "Bxl_1855_Tome_II1_Part_5.txt mentions these keywords: service sanitaire, conseil général d'administration...\n",
      "Bxl_1855_Tome_II1_Part_6.txt mentions these keywords: rue haute, conseil général d'administration, ville de bruxelles...\n",
      "Bxl_1855_Tome_II1_Part_7.txt mentions these keywords: prix du pain, taxes communales, section des finances, approbation d'actes...\n",
      "Bxl_1856_Tome_I1_Part_1.txt mentions these keywords: rue haute, travaux publics, section des travaux, conseil général d'administration...\n",
      "Bxl_1856_Tome_I1_Part_2.txt mentions these keywords: d'une station centrale, station centrale, l'établissement d'une station, d'une station, bruxelles d'une station, rue haute, station du midi, chemins de fer, ville de bruxelles, station du nord...\n",
      "Bxl_1856_Tome_I1_Part_3.txt mentions these keywords: rue haute, travaux publics, rue d'anderlecht, section des travaux, rue des minimes, ville de bruxelles, collège des bourgmestre, rue granvelle, rue de flandre...\n",
      "Bxl_1856_Tome_I1_Part_4.txt mentions these keywords: rue haute, l'hôtel de ville, rue d'anderlecht, travaux publics...\n",
      "Bxl_1856_Tome_I1_Part_5.txt mentions these keywords: rue haute, rue léopold, rue d'anderlecht, travaux publics, rue de flandre...\n",
      "Bxl_1856_Tome_II1_Part_1.txt mentions these keywords: rue haute, rue de flandre, rue des tanneurs, rue des minimes, rue d'anderlecht, travaux publics, rue royale...\n",
      "Bxl_1856_Tome_II1_Part_2.txt mentions these keywords: rue de flandre, rue d'anderlecht, conseil supérieur d'hygiène, conseil supérieur, rue haute, vanden broeck...\n",
      "Bxl_1856_Tome_II1_Part_3.txt mentions these keywords: section des finances...\n",
      "Bxl_1856_Tome_II1_Part_4.txt mentions these keywords: compte moral, voir compte moral...\n",
      "Bxl_1856_Tome_II1_Part_5.txt mentions these keywords: travaux publics, rue haute, rue de flandre, section des travaux, section des finances...\n",
      "Bxl_1856_Tome_II1_Part_6.txt mentions these keywords: rue haute, rue de flandre, ville de bruxelles, travaux publics...\n",
      "Bxl_1856_Tome_II1_Part_7.txt mentions these keywords: travaux publics, ville de bruxelles, d'un architecte...\n",
      "Bxl_1856_Tome_II1_Part_8.txt mentions these keywords: tournée annuelle, comités de charité, annuelle des membres, section de police, prix du pain, membres des comités, collège relative, tarification du pain...\n",
      "Bxl_1857_Tome_I1_Part_1.txt mentions these keywords: rue haute, rue de flandre, ville de bruxelles, rue granvelle, rue des tanneurs, collège des bourgmestre, d'une rue nouvelle...\n",
      "Bxl_1857_Tome_I1_Part_2.txt mentions these keywords: rue de flandre, rue haute, collège des bourgmestre, bourgmestre et échevins, voie publique, travaux publics, rue granvelle, rue des tanneurs, collège propose...\n",
      "Bxl_1857_Tome_I1_Part_3.txt mentions these keywords: rue de flandre, collège des bourgmestre, rue haute, collège pourra, bourgmestre et échevins, conseil provincial, rue d'anderîecht...\n",
      "Bxl_1857_Tome_I1_Part_4.txt mentions these keywords: rue haute, rue de flandre, rue d'anderîecht, rue granvelle, rue des tanneurs, travaux publics...\n",
      "Bxl_1857_Tome_I1_Part_5.txt mentions these keywords: prix du pain, travaux publics, section des travaux, rue de flandre, rue d'anderîecht, rue haute...\n",
      "Bxl_1857_Tome_II1_Part_1.txt mentions these keywords: rue haute, rue de flandre, rue d'anderlecht, rue granvelle, rue des tanneurs, nouvelle rue, rue des fripiers...\n",
      "Bxl_1857_Tome_II1_Part_2.txt mentions these keywords: brut par brut, rue de flandre, rue haute, rue d'anderlecht, rue granvelle, rue des tanneurs, l'hôtel de ville...\n",
      "Bxl_1857_Tome_II1_Part_3.txt mentions these keywords: d'une maison rue, maison rue, rue de flandre, rue haute, expropriation d'une maison, d'une maison, rue des tanneurs...\n",
      "Bxl_1857_Tome_II1_Part_4.txt mentions these keywords: rue haute, service sanitaire, frais d'entretien, voir compte moral...\n",
      "Bxl_1857_Tome_II1_Part_5.txt mentions these keywords: rue haute, rue de flandre, rue des tanneurs, conseil général d'administration, ville de bruxelles, rue des fripiers, rue des teinturiers, rue granvelle...\n",
      "Bxl_1857_Tome_II1_Part_6.txt mentions these keywords: prix du pain, travaux publics, section des travaux, rue haute, taxes communales...\n",
      "Bxl_1858_Tome_I1_Part_1.txt mentions these keywords: rue haute, rue de flandre, rue neuve, rue d'anderlecht, section des travaux, travaux publics, rue des fripiers...\n",
      "Bxl_1858_Tome_I1_Part_2.txt mentions these keywords: rue haute, rue granvelle, rue de flandre, rue des tanneurs, rue d'anderlecht, rue des teinturiers, section des travaux...\n",
      "Bxl_1858_Tome_I1_Part_3.txt mentions these keywords: rue haute, rue d'anderlecht, rue cattoir, rue granvelle, rue des tanneurs, rue de flandre, rue des teinturiers, rue steenpoort, ville de bruxelles, rue royale...\n",
      "Bxl_1858_Tome_I1_Part_4.txt mentions these keywords: rue haute, rue d'anderlecht, conclusions d'un rapport, section des travaux, travaux publics, rue de flandre, rue des tanneurs, rue granvelle...\n",
      "Bxl_1858_Tome_II1_Part_1.txt mentions these keywords: rue haute, rue de flandre, rue d'anderlecht, rue des tanneurs, rue granvelle, rue cattoir, rue des teinturiers, rue royale, rue de schaerbeék...\n",
      "Bxl_1858_Tome_II1_Part_2.txt mentions these keywords: rue haute, rue de flandre, rue royale, rue des tanneurs, rue blaes, rue des teinturiers, terrain rue, rue d'anderlecht...\n",
      "Bxl_1858_Tome_II1_Part_3.txt mentions these keywords: rue haute, ville de bruxelles...\n",
      "Bxl_1858_Tome_II1_Part_4.txt mentions these keywords: rue haute, rue de flandre, voir compte moral, ville de bruxelles, introduction d'un, rue granvelle, rue cattoir, rue royale...\n",
      "Bxl_1858_Tome_II1_Part_5.txt mentions these keywords: rue haute, prix du pain, taxes communales, l'hôtel de ville...\n",
      "Bxl_1859_Tome_I1_Part_1.txt mentions these keywords: rue haute, rue cattoir, introduction d'un kilog, introduction d'un, ville de bruxelles, rue de flandre, conseil général d'administration...\n",
      "Bxl_1859_Tome_I1_Part_2.txt mentions these keywords: rue haute, travaux publics, ville de bruxelles...\n",
      "Bxl_1859_Tome_I1_Part_3.txt mentions these keywords: rue haute, rue d'anderlecht, rue de flandre, rue des tanneurs, rue cattoir, rue royale, rue granvelle, ville de bruxelles...\n",
      "Bxl_1859_Tome_I1_Part_4.txt mentions these keywords: prix du pain, maison du roi, rue haute, travaux publics...\n",
      "Bxl_1859_Tome_II1_Part_1.txt mentions these keywords: rue haute, rue d'anderlecht, rue granvelle, rue de flandre, rue des tanneurs, carré rue haute, rue cattoir, maison rue haute, rue de laeken, rue royale...\n",
      "Bxl_1859_Tome_II1_Part_2.txt mentions these keywords: brut par brut, rue haute, rue d'anderlecht, rue granvelle, rue des tanneurs, rue royale, rue terre-neuve, rue de flandre, maison rue, rue sainte-catherine, rue cattoir, rue de laeken, rue blaes...\n",
      "Bxl_1859_Tome_II1_Part_3.txt mentions these keywords: rue haute, introduction d'un, section des finances, introduction d'un kilog., rue granvelle, rue des tanneurs...\n",
      "Bxl_1859_Tome_II1_Part_4.txt mentions these keywords: rue haute, rue granvelle, rue d'anderlecht, rue des tanneurs, rue ducale'et rue, rue royale...\n",
      "Bxl_1859_Tome_II1_Part_5.txt mentions these keywords: voie publique, prix du pain...\n",
      "Bxl_1860_Tome_I1_Part_1.txt mentions these keywords: rue haute, rue des tanneurs, rue d'anderlecht, rue des épingles, rue de flandre, rue granvelle, collège des bourgmestre...\n",
      "Bxl_1860_Tome_I1_Part_2.txt mentions these keywords: rue haute, voie publique, rue granvelle, bourgmestre et échevins, rue d'anderlecht, collège des bourgmestre...\n",
      "Bxl_1860_Tome_I1_Part_3.txt mentions these keywords: rue haute, rue cattoir, rue granvelle, rue de flandre, rue des tanneurs, rue d'anderlecht, ville de bruxelles, l'hôtel de ville, rue de schaerbeék...\n",
      "Bxl_1860_Tome_I1_Part_4.txt mentions these keywords: rue haute, travaux publics, rue d'anderlecht, rue cattoir, rue de flandre, prix du pain, section des travaux, rue saint-ghislain, rue ducale...\n",
      "Bxl_1860_Tome_II1_Part_1.txt mentions these keywords: rue haute, rue de flandre, rue des tanneurs, sise rue haute, rue d'anderlecht, rue granvelle, conseil général d'administration...\n",
      "Bxl_1860_Tome_II1_Part_2.txt mentions these keywords: rue haute, rue de flandre...\n",
      "Bxl_1860_Tome_II1_Part_3.txt mentions these keywords: rue haute, d'une maison rue...\n",
      "Bxl_1860_Tome_II1_Part_4.txt mentions these keywords: rue haute, rue d'anderlecht, rue des tanneurs, rue granvelle, rue royale, conseil général d'administration, rue de schaerbeék, rue de flandre, rue du canal...\n",
      "Bxl_1860_Tome_II1_Part_5.txt mentions these keywords: conseil général d'administration, rue haute, rue d'anderlecht, bruxelles d'un conseil...\n",
      "Bxl_1860_Tome_II1_Part_6.txt mentions these keywords: conclusions d'un rapport, d'un rapport, prix du pain, l'administration des hospices...\n",
      "Bxl_1861_Tome_II1_Part_1.txt mentions these keywords: ville de bruxelles, monsieur le ministre, société civile...\n",
      "Bxl_1861_Tome_II1_Part_2.txt mentions these keywords: bruxelles d'un conseil, ville de bruxelles...\n",
      "Bxl_1861_Tome_II1_Part_3.txt mentions these keywords: l'année dernière, travaux publics...\n",
      "Bxl_1861_Tome_II1_Part_4.txt mentions these keywords: rue haute, ville de bruxelles, l'echevin vanderlinden, travaux publics, l'hôtel de ville, conseil général d'administration...\n",
      "Bxl_1861_Tome_II1_Part_5.txt mentions these keywords: navires de mer, ville de bruxelles, conseil de fabrique, section des finances...\n",
      "Bxl_1862_Tome_I1_Part_1.txt mentions these keywords: conseil académique, ville de bruxelles, conseil général d'administration, d'un conseil...\n",
      "Bxl_1862_Tome_I1_Part_2.txt mentions these keywords: conseil académique...\n",
      "Bxl_1862_Tome_I1_Part_3.txt mentions these keywords: l'echevin vanderlinden, travaux publics, section des travaux, conseil général d'administration, ville de bruxelles, conseil académique...\n",
      "Bxl_1862_Tome_I1_Part_4.txt mentions these keywords: conseil académique, l'échevin vanderlinden, jardin botanique...\n",
      "Bxl_1862_Tome_I1_Part_5.txt mentions these keywords: ville de bruxelles, travaux publics, l'échevin vanderlinden, commune de saint-gilles, commune d'ixelles...\n",
      "Bxl_1862_Tome_II1_Part_1.txt mentions these keywords: rue haute, ministre de l'intérieur...\n",
      "Bxl_1862_Tome_II1_Part_2.txt mentions these keywords: rue haute, rue d'anderlecht, voir compte moral, terrain au cimetière...\n",
      "Bxl_1862_Tome_II1_Part_3.txt mentions these keywords: ...\n",
      "Bxl_1862_Tome_II1_Part_4.txt mentions these keywords: construction d'une bourse, d'une bourse, conseil séance bourgmestre, ville de bruxelles...\n",
      "Bxl_1862_Tome_II1_Part_5.txt mentions these keywords: commune d'ixelles, ville de bruxelles, section des finances...\n",
      "Bxl_1863_Tome_I1_Part_1.txt mentions these keywords: travaux publics, conseil général d'administration, collège des bourgmestre, section des travaux, ville de bruxelles...\n",
      "Bxl_1863_Tome_I1_Part_2.txt mentions these keywords: rue haute, conseil général d'administration, rue d'anderlecht, travaux publics, ville de bruxelles, section des travaux, d'un égout rue, l'hôtel de ville...\n",
      "Bxl_1863_Tome_I1_Part_3.txt mentions these keywords: travaux publics, section des travaux, travaux publics relatif, section des finances, l'échevin vanderlinden...\n",
      "Bxl_1863_Tome_II1_Part_1.txt mentions these keywords: travaux publics, rue granvelle, conseil académique, l'hôtel de ville, section des travaux, rue haute...\n",
      "Bxl_1863_Tome_II1_Part_2.txt mentions these keywords: voir compte moral, sociétés chorales, sociétés chorales belges, voir compte, société royale, compte moral, collège des bourgmestre...\n",
      "Bxl_1863_Tome_II1_Part_3.txt mentions these keywords: ...\n",
      "Bxl_1863_Tome_II1_Part_4.txt mentions these keywords: rue haute, travaux publics...\n",
      "Bxl_1863_Tome_II1_Part_5.txt mentions these keywords: rue haute, travaux publics, rue d'anderlecht, section des finances, section des travaux, travaux publics relatif, l'hôtel de ville, rue granvelle...\n",
      "Bxl_1864_Tome_I1_Part_1.txt mentions these keywords: l'échevin watteeu, l'échevin funck, travaux publics...\n",
      "Bxl_1864_Tome_I1_Part_2.txt mentions these keywords: rue haute, l'administration communale, dépense dépense dépense, ville de bruxelles...\n",
      "Bxl_1864_Tome_I1_Part_3.txt mentions these keywords: rue haute, travaux publics...\n",
      "Bxl_1864_Tome_I1_Part_4.txt mentions these keywords: travaux publics, l'hôtel de ville, rue haute, section des travaux...\n",
      "Bxl_1864_Tome_I1_Part_5.txt mentions these keywords: travaux publics, l'échevin watteeu, section des travaux, conclusions du rapport...\n",
      "Bxl_1865_Tome_I1_Part_1.txt mentions these keywords: travaux publics, rue du parc, rue haute, rue cantersteen, rue du musée, section des travaux...\n",
      "Bxl_1865_Tome_I1_Part_2.txt mentions these keywords: travaux publics, rue haute, d'un égout rue, eaux sales, ville de bruxelles, construction d'un égout...\n",
      "Bxl_1865_Tome_I1_Part_3.txt mentions these keywords: rue haute, conseil général d'administration, rue granvelle, conseil d'administration, l'hôtel de ville, ville de bruxelles, rue d'anderlecht, travaux publics...\n",
      "Bxl_1865_Tome_I1_Part_4.txt mentions these keywords: l'echevin watteeu, ville de bruxelles, rue haute...\n",
      "Bxl_1865_Tome_II1_Part_1.txt mentions these keywords: travaux publics, rue haute, avons l'honneur, section des travaux...\n",
      "Bxl_1865_Tome_II1_Part_2.txt mentions these keywords: l'hôtel de ville, voir comptes moraux, rue granvelle, société royale, ville de bruxelles, rue haute, voir comptes, rue d'anderlecht, frais d'entretien, enfants trouvés...\n",
      "Bxl_1865_Tome_II1_Part_3.txt mentions these keywords: ville de bruxelles...\n",
      "Bxl_1865_Tome_II1_Part_4.txt mentions these keywords: travaux publics...\n",
      "Bxl_1865_Tome_II1_Part_5.txt mentions these keywords: l'echevin watteeu, centimes additionnels, immeubles situés...\n",
      "Bxl_1865_Tome_II1_Part_6.txt mentions these keywords: conseil général d'administration, concession de terrain, rue haute, terrain pour sépulture, intenter parla ville, travaux publics...\n",
      "Bxl_1865_Tome_II1_Part_7.txt mentions these keywords: intenter parla ville, xxxii travaux publics, rues nouvelles, action intentée, projet van calck, ministre de l'intérieur, xxxii travaux, parla ville...\n",
      "Bxl_1866_Tome_I1_Part_1.txt mentions these keywords: l'echevin watteeu, travaux publics, ville de bruxelles...\n",
      "Bxl_1866_Tome_I1_Part_2.txt mentions these keywords: cause d'utilité publique, d'utilité publique, travaux publics, travaux d'utilité publique, voie publique, cause d'utilité...\n",
      "Bxl_1866_Tome_I1_Part_3.txt mentions these keywords: monsieur le bourgmestre, petite senne, travaux publics...\n",
      "Bxl_1866_Tome_I1_Part_4.txt mentions these keywords: droit de suffrage, parce qu'il...\n",
      "Bxl_1866_Tome_I1_Part_5.txt mentions these keywords: cens électoral, droit de suffrage, classe ouvrière...\n",
      "Bxl_1866_Tome_I1_Part_6.txt mentions these keywords: actes de dévouement, concession de terrain, conseil général d'administration, terrain pour sépulture, avis favorable...\n",
      "Bxl_1866_Tome_II1_Part_1.txt mentions these keywords: rue haute, ville de bruxelles, rue d'anderlecht, cahier des charges, rue de laeken, collège pourra...\n",
      "Bxl_1866_Tome_II1_Part_2.txt mentions these keywords: travaux publics, senne voûtée, l'administration communale, cahier des charges, conseil général d'administration...\n",
      "Bxl_1866_Tome_II1_Part_3.txt mentions these keywords: chemin de fer, cahier des charges, voie publique, travaux publics, l'echevin watteeu...\n",
      "Bxl_1866_Tome_II1_Part_4.txt mentions these keywords: ville de bruxelles, rue haute, société royale, l'hôtel de ville...\n",
      "Bxl_1866_Tome_II1_Part_5.txt mentions these keywords: ville de bruxelles, travaux publics, l'echevin watteeu...\n",
      "Bxl_1866_Tome_II1_Part_6.txt mentions these keywords: l'echevin watteeu, collège pourra...\n",
      "Bxl_1866_Tome_II1_Part_7.txt mentions these keywords: actes de dévouement, concession de terrain, terrain pour sépulture, visiteur des pauvres, agent de police...\n",
      "Bxl_1867_Tome_I1_Part_1.txt mentions these keywords: société générale, rue d'anderlecht, ville de bruxelles, rue haute, conseil général d'administration, l'echevin watteeu, travaux publics, monsieur le ministre...\n",
      "Bxl_1867_Tome_I1_Part_2.txt mentions these keywords: van helmont, conseil général d'administration, rue haute, rue d'anderlecht, ville de bruxelles, garde civique, l'hôtel de ville, section des finances, charger le collège...\n",
      "Bxl_1867_Tome_I1_Part_3.txt mentions these keywords: théâtre flamand, théâtre français, rue haute...\n",
      "Bxl_1867_Tome_I1_Part_4.txt mentions these keywords: rue haute, projet d'ordonnance, l'hôtel de ville...\n",
      "Bxl_1867_Tome_II1_Part_1.txt mentions these keywords: rue haute, rue granvelle, théâtre flamand, société royale, sociétés chorales, ville de bruxelles, rue d'anderlecht...\n",
      "Bxl_1867_Tome_II1_Part_2.txt mentions these keywords: grand nombre...\n",
      "Bxl_1867_Tome_II1_Part_3.txt mentions these keywords: enfants trouvés, conseil général d'administration...\n",
      "Bxl_1867_Tome_II1_Part_4.txt mentions these keywords: rue haute, section des finances, travaux publics, l'echevin goffart, conseil général d'administration...\n",
      "Bxl_1867_Tome_II1_Part_5.txt mentions these keywords: compagnie anglaise, rue haute, écoles d'adultes, ville de bruxelles...\n",
      "Bxl_1867_Tome_II1_Part_6.txt mentions these keywords: concession de terrain, terrain pour sépulture, vote d'un crédit, vote d'un, action intentée, vote d'un règlement, d'un crédit, prestation de serment, vote d'un subside...\n",
      "Bxl_1868_Tome_I1_Part_1.txt mentions these keywords: rue haute, ville de bruxelles, conseil général d'administration, l'hôtel de ville, travaux publics, d'un égout rue, section des finances...\n",
      "Bxl_1868_Tome_I1_Part_2.txt mentions these keywords: ville de bruxelles, l'hôtel de ville, rue haute...\n",
      "Bxl_1868_Tome_I1_Part_3.txt mentions these keywords: rue haute, conseil général d'administration, ville de bruxelles, section des finances...\n",
      "Bxl_1868_Tome_II1_Part_1.txt mentions these keywords: l'usine solvay, rue des echelles, rue haute, sieur solvay, commission médicale, conseil général d'administration, compagnie solvay...\n",
      "Bxl_1868_Tome_II1_Part_2.txt mentions these keywords: rue haute, l'hôtel de ville, ville de bruxelles, rue d'anderlecht, travaux publics...\n",
      "Bxl_1868_Tome_II1_Part_3.txt mentions these keywords: rue haute, l'echevin watteeu, conseil général d'administration, section des finances...\n",
      "Bxl_1868_Tome_II1_Part_4.txt mentions these keywords: ville de bruxelles, l'honorable membre, banque jacobs...\n",
      "Bxl_1868_Tome_II1_Part_5.txt mentions these keywords: enfants trouvés, frais d'entretien...\n",
      "Bxl_1868_Tome_II1_Part_6.txt mentions these keywords: concession de terrain, terrain pour sépulture, action intentée, vote d'un crédit, vote d'un...\n",
      "Bxl_1869_Tome_I1_Part_1.txt mentions these keywords: ville de bruxelles, section des finances, cahier des charges...\n",
      "Bxl_1869_Tome_I1_Part_2.txt mentions these keywords: rue haute, l'hôtel de ville, rue granvelle, ville de bruxelles, conseil général d'administration...\n",
      "Bxl_1869_Tome_I1_Part_3.txt mentions these keywords: concession de terrain, ville de bruxelles, terrain pour sépulture, rue haute, l'hôtel de ville, l'echevin watteeu, don manuel...\n"
     ]
    },
    {
     "output_type": "error",
     "ename": "UnboundLocalError",
     "evalue": "local variable 'block_of_word_obj' referenced before assignment",
     "traceback": [
      "\u001b[1;31m---------------------------------------------------------------------------\u001b[0m",
      "\u001b[1;31mUnboundLocalError\u001b[0m                         Traceback (most recent call last)",
      "\u001b[1;32m<ipython-input-16-74cc9dc4a149>\u001b[0m in \u001b[0;36m<module>\u001b[1;34m\u001b[0m\n\u001b[0;32m      1\u001b[0m \u001b[1;32mfor\u001b[0m \u001b[0mf\u001b[0m \u001b[1;32min\u001b[0m \u001b[0msorted\u001b[0m\u001b[1;33m(\u001b[0m\u001b[0mbxl_files\u001b[0m\u001b[1;33m)\u001b[0m\u001b[1;33m[\u001b[0m\u001b[1;33m:\u001b[0m\u001b[1;36m2000\u001b[0m\u001b[1;33m]\u001b[0m\u001b[1;33m:\u001b[0m\u001b[1;33m\u001b[0m\u001b[1;33m\u001b[0m\u001b[0m\n\u001b[0;32m      2\u001b[0m     \u001b[0mtext\u001b[0m \u001b[1;33m=\u001b[0m \u001b[0mopen\u001b[0m\u001b[1;33m(\u001b[0m\u001b[1;34mf'{data_path}/{f}'\u001b[0m\u001b[1;33m,\u001b[0m \u001b[0mencoding\u001b[0m\u001b[1;33m=\u001b[0m\u001b[1;34m'utf-8'\u001b[0m\u001b[1;33m)\u001b[0m\u001b[1;33m.\u001b[0m\u001b[0mread\u001b[0m\u001b[1;33m(\u001b[0m\u001b[1;33m)\u001b[0m\u001b[1;33m\u001b[0m\u001b[1;33m\u001b[0m\u001b[0m\n\u001b[1;32m----> 3\u001b[1;33m     \u001b[0mkeywords\u001b[0m \u001b[1;33m=\u001b[0m \u001b[0mkw_extractor\u001b[0m\u001b[1;33m.\u001b[0m\u001b[0mextract_keywords\u001b[0m\u001b[1;33m(\u001b[0m\u001b[0mtext\u001b[0m\u001b[1;33m)\u001b[0m\u001b[1;33m\u001b[0m\u001b[1;33m\u001b[0m\u001b[0m\n\u001b[0m\u001b[0;32m      4\u001b[0m     \u001b[0mkept\u001b[0m \u001b[1;33m=\u001b[0m \u001b[1;33m[\u001b[0m\u001b[1;33m]\u001b[0m\u001b[1;33m\u001b[0m\u001b[1;33m\u001b[0m\u001b[0m\n\u001b[0;32m      5\u001b[0m     \u001b[1;32mfor\u001b[0m \u001b[0mscore\u001b[0m\u001b[1;33m,\u001b[0m \u001b[0mkw\u001b[0m \u001b[1;32min\u001b[0m \u001b[0mkeywords\u001b[0m\u001b[1;33m:\u001b[0m\u001b[1;33m\u001b[0m\u001b[1;33m\u001b[0m\u001b[0m\n",
      "\u001b[1;32m~\\AppData\\Local\\Programs\\Python\\Python37\\lib\\site-packages\\yake\\yake.py\u001b[0m in \u001b[0;36mextract_keywords\u001b[1;34m(self, text)\u001b[0m\n\u001b[0;32m     44\u001b[0m         \u001b[0mtext\u001b[0m \u001b[1;33m=\u001b[0m \u001b[0mtext\u001b[0m\u001b[1;33m.\u001b[0m\u001b[0mreplace\u001b[0m\u001b[1;33m(\u001b[0m\u001b[1;34m'\\n\\t'\u001b[0m\u001b[1;33m,\u001b[0m\u001b[1;34m' '\u001b[0m\u001b[1;33m)\u001b[0m\u001b[1;33m\u001b[0m\u001b[1;33m\u001b[0m\u001b[0m\n\u001b[0;32m     45\u001b[0m \u001b[1;33m\u001b[0m\u001b[0m\n\u001b[1;32m---> 46\u001b[1;33m         \u001b[0mdc\u001b[0m \u001b[1;33m=\u001b[0m \u001b[0mDataCore\u001b[0m\u001b[1;33m(\u001b[0m\u001b[0mtext\u001b[0m\u001b[1;33m=\u001b[0m\u001b[0mtext\u001b[0m\u001b[1;33m,\u001b[0m \u001b[0mstopword_set\u001b[0m\u001b[1;33m=\u001b[0m\u001b[0mself\u001b[0m\u001b[1;33m.\u001b[0m\u001b[0mstopword_set\u001b[0m\u001b[1;33m,\u001b[0m \u001b[0mwindowsSize\u001b[0m\u001b[1;33m=\u001b[0m\u001b[0mself\u001b[0m\u001b[1;33m.\u001b[0m\u001b[0mwindowsSize\u001b[0m\u001b[1;33m,\u001b[0m \u001b[0mn\u001b[0m\u001b[1;33m=\u001b[0m\u001b[0mself\u001b[0m\u001b[1;33m.\u001b[0m\u001b[0mn\u001b[0m\u001b[1;33m)\u001b[0m\u001b[1;33m\u001b[0m\u001b[1;33m\u001b[0m\u001b[0m\n\u001b[0m\u001b[0;32m     47\u001b[0m         \u001b[0mdc\u001b[0m\u001b[1;33m.\u001b[0m\u001b[0mbuild_single_terms_features\u001b[0m\u001b[1;33m(\u001b[0m\u001b[0mfeatures\u001b[0m\u001b[1;33m=\u001b[0m\u001b[0mself\u001b[0m\u001b[1;33m.\u001b[0m\u001b[0mfeatures\u001b[0m\u001b[1;33m)\u001b[0m\u001b[1;33m\u001b[0m\u001b[1;33m\u001b[0m\u001b[0m\n\u001b[0;32m     48\u001b[0m         \u001b[0mdc\u001b[0m\u001b[1;33m.\u001b[0m\u001b[0mbuild_mult_terms_features\u001b[0m\u001b[1;33m(\u001b[0m\u001b[0mfeatures\u001b[0m\u001b[1;33m=\u001b[0m\u001b[0mself\u001b[0m\u001b[1;33m.\u001b[0m\u001b[0mfeatures\u001b[0m\u001b[1;33m)\u001b[0m\u001b[1;33m\u001b[0m\u001b[1;33m\u001b[0m\u001b[0m\n",
      "\u001b[1;32m~\\AppData\\Local\\Programs\\Python\\Python37\\lib\\site-packages\\yake\\datarepresentation.py\u001b[0m in \u001b[0;36m__init__\u001b[1;34m(self, text, stopword_set, windowsSize, n, tagsToDiscard, exclude)\u001b[0m\n\u001b[0;32m     34\u001b[0m         \u001b[0mself\u001b[0m\u001b[1;33m.\u001b[0m\u001b[0mstopword_set\u001b[0m \u001b[1;33m=\u001b[0m \u001b[0mstopword_set\u001b[0m\u001b[1;33m\u001b[0m\u001b[1;33m\u001b[0m\u001b[0m\n\u001b[0;32m     35\u001b[0m \u001b[1;33m\u001b[0m\u001b[0m\n\u001b[1;32m---> 36\u001b[1;33m         \u001b[0mself\u001b[0m\u001b[1;33m.\u001b[0m\u001b[0m_build\u001b[0m\u001b[1;33m(\u001b[0m\u001b[0mtext\u001b[0m\u001b[1;33m,\u001b[0m \u001b[0mwindowsSize\u001b[0m\u001b[1;33m,\u001b[0m \u001b[0mn\u001b[0m\u001b[1;33m)\u001b[0m\u001b[1;33m\u001b[0m\u001b[1;33m\u001b[0m\u001b[0m\n\u001b[0m\u001b[0;32m     37\u001b[0m \u001b[1;33m\u001b[0m\u001b[0m\n\u001b[0;32m     38\u001b[0m     \u001b[1;32mdef\u001b[0m \u001b[0mbuild_candidate\u001b[0m\u001b[1;33m(\u001b[0m\u001b[0mself\u001b[0m\u001b[1;33m,\u001b[0m \u001b[0mcandidate_string\u001b[0m\u001b[1;33m)\u001b[0m\u001b[1;33m:\u001b[0m\u001b[1;33m\u001b[0m\u001b[1;33m\u001b[0m\u001b[0m\n",
      "\u001b[1;32m~\\AppData\\Local\\Programs\\Python\\Python37\\lib\\site-packages\\yake\\datarepresentation.py\u001b[0m in \u001b[0;36m_build\u001b[1;34m(self, text, windowsSize, n)\u001b[0m\n\u001b[0;32m    108\u001b[0m                 \u001b[0mself\u001b[0m\u001b[1;33m.\u001b[0m\u001b[0msentences_obj\u001b[0m\u001b[1;33m.\u001b[0m\u001b[0mappend\u001b[0m\u001b[1;33m(\u001b[0m\u001b[0msentence_obj_aux\u001b[0m\u001b[1;33m)\u001b[0m\u001b[1;33m\u001b[0m\u001b[1;33m\u001b[0m\u001b[0m\n\u001b[0;32m    109\u001b[0m \u001b[1;33m\u001b[0m\u001b[0m\n\u001b[1;32m--> 110\u001b[1;33m         \u001b[1;32mif\u001b[0m \u001b[0mlen\u001b[0m\u001b[1;33m(\u001b[0m\u001b[0mblock_of_word_obj\u001b[0m\u001b[1;33m)\u001b[0m \u001b[1;33m>\u001b[0m \u001b[1;36m0\u001b[0m\u001b[1;33m:\u001b[0m\u001b[1;33m\u001b[0m\u001b[1;33m\u001b[0m\u001b[0m\n\u001b[0m\u001b[0;32m    111\u001b[0m             \u001b[0msentence_obj_aux\u001b[0m\u001b[1;33m.\u001b[0m\u001b[0mappend\u001b[0m\u001b[1;33m(\u001b[0m \u001b[0mblock_of_word_obj\u001b[0m \u001b[1;33m)\u001b[0m\u001b[1;33m\u001b[0m\u001b[1;33m\u001b[0m\u001b[0m\n\u001b[0;32m    112\u001b[0m \u001b[1;33m\u001b[0m\u001b[0m\n",
      "\u001b[1;31mUnboundLocalError\u001b[0m: local variable 'block_of_word_obj' referenced before assignment"
     ]
    }
   ],
   "source": [
    "for f in sorted(bxl_files)[:2000]:\n",
    "    text = open(f'{data_path}/{f}', encoding='utf-8').read()\n",
    "    keywords = kw_extractor.extract_keywords(text)\n",
    "    kept = []\n",
    "    for score, kw in keywords:\n",
    "        words = kw.split()\n",
    "        if len(words) > 1 and kw not in ignored:\n",
    "            kept.append(kw)\n",
    "    print(f\"{f} mentions these keywords: {', '.join(kept)}...\")"
   ]
  },
  {
   "cell_type": "code",
   "execution_count": null,
   "metadata": {},
   "outputs": [],
   "source": []
  }
 ]
}